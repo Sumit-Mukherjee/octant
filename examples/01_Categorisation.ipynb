{
 "cells": [
  {
   "cell_type": "markdown",
   "metadata": {},
   "source": [
    "# Examples of applying filters and categorising tracks"
   ]
  },
  {
   "cell_type": "markdown",
   "metadata": {},
   "source": [
    "Import essential libraries"
   ]
  },
  {
   "cell_type": "code",
   "execution_count": 1,
   "metadata": {},
   "outputs": [],
   "source": [
    "from pathlib import Path\n",
    "\n",
    "from octant.core import TrackRun"
   ]
  },
  {
   "cell_type": "markdown",
   "metadata": {},
   "source": [
    "Define the common data directory"
   ]
  },
  {
   "cell_type": "code",
   "execution_count": 2,
   "metadata": {},
   "outputs": [],
   "source": [
    "sample_dir = Path('.') / 'sample_data'"
   ]
  },
  {
   "cell_type": "markdown",
   "metadata": {},
   "source": [
    "Data are usually organised in hierarchical directory structure. Here, the relevant parameters are defined."
   ]
  },
  {
   "cell_type": "code",
   "execution_count": 3,
   "metadata": {},
   "outputs": [],
   "source": [
    "dataset = 'era5'\n",
    "period = 'test'\n",
    "run_id = 0"
   ]
  },
  {
   "cell_type": "markdown",
   "metadata": {},
   "source": [
    "Construct the full path"
   ]
  },
  {
   "cell_type": "code",
   "execution_count": 4,
   "metadata": {},
   "outputs": [],
   "source": [
    "track_res_dir = sample_dir / dataset / f'run{run_id:03d}' / period"
   ]
  },
  {
   "cell_type": "markdown",
   "metadata": {},
   "source": [
    "Now load the cyclone tracks themselves"
   ]
  },
  {
   "cell_type": "code",
   "execution_count": 5,
   "metadata": {},
   "outputs": [
    {
     "data": {
      "text/html": [
       "\n",
       "<style>\n",
       "  table.octant {\n",
       "      white-space: pre;\n",
       "      border: 1px solid;\n",
       "      border-color: #9c9c9c;\n",
       "      font-family: monaco, monospace;\n",
       "  }\n",
       "  th.octant {\n",
       "      background: #333333;\n",
       "      color: #e0e0e0;\n",
       "      border-left: 1px solid;\n",
       "      border-color: #9c9c9c;\n",
       "      font-size: 1.05em;\n",
       "      min-width: 50px;\n",
       "      max-width: 125px;\n",
       "  }\n",
       "</style>\n",
       "<table class=\"octant\" id=\"139694801601536\">\n",
       "    <tr class=\"octant\">\n",
       "<th class=\"octant octant-word-cell\" colspan=\"8\">octant.core.TrackRun</th>\n",
       "</tr>\n",
       "    <tr class=\"octant\">\n",
       "<td class=\"octant octant-word-cell\">Number of tracks</td>\n",
       "<td class=\"octant octant-word-cell\" colspan=\"7\">671</td>\n",
       "</tr>\n",
       "<tr class=\"octant\">\n",
       "<td class=\"octant octant-word-cell\">Data columns</td>\n",
       "<td class=\"octant octant-word-cell\">lon</td>\n",
       "<td class=\"octant octant-word-cell\">lat</td>\n",
       "<td class=\"octant octant-word-cell\">vo</td>\n",
       "<td class=\"octant octant-word-cell\">time</td>\n",
       "<td class=\"octant octant-word-cell\">area</td>\n",
       "<td class=\"octant octant-word-cell\">vortex_type</td>\n",
       "<td class=\"octant octant-word-cell\">cat</td>\n",
       "</tr>\n",
       "<tr class=\"octant\">\n",
       "<td class=\"octant octant-word-cell\"                rowspan=\"2\">Sources</td>\n",
       "<tr class=\"octant\">\n",
       "<td class=\"octant octant-word-cell\"                             colspan=\"7\">sample_data/era5/run000/test</td>\n",
       "</tr>\n",
       "</tr>\n",
       "</table>\n",
       "        "
      ],
      "text/plain": [
       "<octant.core.TrackRun> [671 tracks]"
      ]
     },
     "execution_count": 5,
     "metadata": {},
     "output_type": "execute_result"
    }
   ],
   "source": [
    "tr = TrackRun(track_res_dir)\n",
    "tr"
   ]
  },
  {
   "cell_type": "markdown",
   "metadata": {},
   "source": [
    "### Classify the tracks"
   ]
  },
  {
   "cell_type": "markdown",
   "metadata": {},
   "source": [
    "Now, to label each of the tracks within `tr` according to a set of filters or criteria, `classify()` method should be used.\n",
    "\n",
    "Below are two examples: a simple one and a more advanced using a function with multiple arguments."
   ]
  },
  {
   "cell_type": "markdown",
   "metadata": {},
   "source": [
    "### Simple functions as filters"
   ]
  },
  {
   "cell_type": "markdown",
   "metadata": {},
   "source": [
    "As its argument, `classify()` takes a list of tuples in the form of\n",
    "```\n",
    "[\n",
    "(<labelA>, [<func1>, <func2>, ..., <funcN>]),\n",
    "(<labelB>, [<func1>, <func2>, ..., <funcN>]),\n",
    "...\n",
    "(<labelZ>, [<func1>, <func2>, ..., <funcN>]),\n",
    "],\n",
    "```\n",
    "\n",
    "where `labelA` is assigned to a track if the track satisfies **all** the conditions given by `[<func1>, <func2>, ..., <funcN>]`, which is a list of 1 or more functions.\n",
    "These functions expect 1 and only 1 argument - `OctantTrack`."
   ]
  },
  {
   "cell_type": "markdown",
   "metadata": {},
   "source": [
    "For example, it is possible to classify tracks by their lifetime, maximum vorticity, and distance travelled:"
   ]
  },
  {
   "cell_type": "code",
   "execution_count": 6,
   "metadata": {},
   "outputs": [],
   "source": [
    "conditions = [\n",
    "    ('long_lived', [lambda ot: ot.lifetime_h >= 6]),\n",
    "    ('far_travelled_and_very_long_lived', [lambda ot: ot.lifetime_h >= 36,\n",
    "                                           lambda ot: ot.gen_lys_dist_km > 300.0]),\n",
    "    ('strong', [lambda x: x.max_vort > 1e-3])\n",
    "]"
   ]
  },
  {
   "cell_type": "code",
   "execution_count": 7,
   "metadata": {},
   "outputs": [],
   "source": [
    "tr.classify(conditions)"
   ]
  },
  {
   "cell_type": "code",
   "execution_count": 8,
   "metadata": {},
   "outputs": [
    {
     "data": {
      "text/html": [
       "\n",
       "<style>\n",
       "  table.octant {\n",
       "      white-space: pre;\n",
       "      border: 1px solid;\n",
       "      border-color: #9c9c9c;\n",
       "      font-family: monaco, monospace;\n",
       "  }\n",
       "  th.octant {\n",
       "      background: #333333;\n",
       "      color: #e0e0e0;\n",
       "      border-left: 1px solid;\n",
       "      border-color: #9c9c9c;\n",
       "      font-size: 1.05em;\n",
       "      min-width: 50px;\n",
       "      max-width: 125px;\n",
       "  }\n",
       "</style>\n",
       "<table class=\"octant\" id=\"139694801601536\">\n",
       "    <tr class=\"octant\">\n",
       "<th class=\"octant octant-word-cell\" colspan=\"8\">octant.core.TrackRun</th>\n",
       "</tr>\n",
       "    <tr class=\"octant\">\n",
       "<td rowspan=\"5\">Categories</td>\n",
       "<tr class=\"octant\">\n",
       "<td class=\"octant octant-word-cell\"></td><td colspan=\"5\">671</td><td>in total</td>\n",
       "</tr>\n",
       "</tr>\n",
       "<tr class=\"octant\">\n",
       "<td class=\"octant octant-word-cell\">of which</td><td class=\"octant octant-word-cell\"colspan=\"5\">247</td><td class=\"octant octant-word-cell\">long_lived</td>\n",
       "</tr>\n",
       "<tr class=\"octant\">\n",
       "<td class=\"octant octant-word-cell\">of which</td><td class=\"octant octant-word-cell\"colspan=\"5\">18</td><td class=\"octant octant-word-cell\">far_travelled_and_very_long_lived</td>\n",
       "</tr>\n",
       "<tr class=\"octant\">\n",
       "<td class=\"octant octant-word-cell\">of which</td><td class=\"octant octant-word-cell\"colspan=\"5\">3</td><td class=\"octant octant-word-cell\">strong</td>\n",
       "</tr>\n",
       "<tr class=\"octant\">\n",
       "<td class=\"octant octant-word-cell\">Data columns</td>\n",
       "<td class=\"octant octant-word-cell\">lon</td>\n",
       "<td class=\"octant octant-word-cell\">lat</td>\n",
       "<td class=\"octant octant-word-cell\">vo</td>\n",
       "<td class=\"octant octant-word-cell\">time</td>\n",
       "<td class=\"octant octant-word-cell\">area</td>\n",
       "<td class=\"octant octant-word-cell\">vortex_type</td>\n",
       "<td class=\"octant octant-word-cell\">cat</td>\n",
       "</tr>\n",
       "<tr class=\"octant\">\n",
       "<td class=\"octant octant-word-cell\"                rowspan=\"2\">Sources</td>\n",
       "<tr class=\"octant\">\n",
       "<td class=\"octant octant-word-cell\"                             colspan=\"7\">sample_data/era5/run000/test</td>\n",
       "</tr>\n",
       "</tr>\n",
       "</table>\n",
       "        "
      ],
      "text/plain": [
       "<octant.core.TrackRun> [671 tracks]"
      ]
     },
     "execution_count": 8,
     "metadata": {},
     "output_type": "execute_result"
    }
   ],
   "source": [
    "tr"
   ]
  },
  {
   "cell_type": "markdown",
   "metadata": {},
   "source": [
    "**NB** By default, the categories are \"inclusive\", so in this example the \"long_lived\" subset includes tracks are \"far_travelled_and_very_long_lived\", and they both include the \"strong\" subset."
   ]
  },
  {
   "cell_type": "markdown",
   "metadata": {},
   "source": [
    "This is how the numbers change if the categorisation is non-inclusive (all the categories are separate):"
   ]
  },
  {
   "cell_type": "code",
   "execution_count": 9,
   "metadata": {},
   "outputs": [],
   "source": [
    "tr.classify(conditions, inclusive=False)"
   ]
  },
  {
   "cell_type": "code",
   "execution_count": 10,
   "metadata": {},
   "outputs": [
    {
     "data": {
      "text/html": [
       "\n",
       "<style>\n",
       "  table.octant {\n",
       "      white-space: pre;\n",
       "      border: 1px solid;\n",
       "      border-color: #9c9c9c;\n",
       "      font-family: monaco, monospace;\n",
       "  }\n",
       "  th.octant {\n",
       "      background: #333333;\n",
       "      color: #e0e0e0;\n",
       "      border-left: 1px solid;\n",
       "      border-color: #9c9c9c;\n",
       "      font-size: 1.05em;\n",
       "      min-width: 50px;\n",
       "      max-width: 125px;\n",
       "  }\n",
       "</style>\n",
       "<table class=\"octant\" id=\"139694801601536\">\n",
       "    <tr class=\"octant\">\n",
       "<th class=\"octant octant-word-cell\" colspan=\"8\">octant.core.TrackRun</th>\n",
       "</tr>\n",
       "    <tr class=\"octant\">\n",
       "<td rowspan=\"5\">Categories</td>\n",
       "<tr class=\"octant\">\n",
       "<td class=\"octant octant-word-cell\"></td><td colspan=\"5\">671</td><td>in total</td>\n",
       "</tr>\n",
       "</tr>\n",
       "<tr class=\"octant\">\n",
       "<td class=\"octant octant-word-cell\">of which</td><td class=\"octant octant-word-cell\"colspan=\"5\">228</td><td class=\"octant octant-word-cell\">long_lived</td>\n",
       "</tr>\n",
       "<tr class=\"octant\">\n",
       "<td class=\"octant octant-word-cell\">of which</td><td class=\"octant octant-word-cell\"colspan=\"5\">15</td><td class=\"octant octant-word-cell\">far_travelled_and_very_long_lived</td>\n",
       "</tr>\n",
       "<tr class=\"octant\">\n",
       "<td class=\"octant octant-word-cell\">of which</td><td class=\"octant octant-word-cell\"colspan=\"5\">5</td><td class=\"octant octant-word-cell\">strong</td>\n",
       "</tr>\n",
       "<tr class=\"octant\">\n",
       "<td class=\"octant octant-word-cell\">Data columns</td>\n",
       "<td class=\"octant octant-word-cell\">lon</td>\n",
       "<td class=\"octant octant-word-cell\">lat</td>\n",
       "<td class=\"octant octant-word-cell\">vo</td>\n",
       "<td class=\"octant octant-word-cell\">time</td>\n",
       "<td class=\"octant octant-word-cell\">area</td>\n",
       "<td class=\"octant octant-word-cell\">vortex_type</td>\n",
       "<td class=\"octant octant-word-cell\">cat</td>\n",
       "</tr>\n",
       "<tr class=\"octant\">\n",
       "<td class=\"octant octant-word-cell\"                rowspan=\"2\">Sources</td>\n",
       "<tr class=\"octant\">\n",
       "<td class=\"octant octant-word-cell\"                             colspan=\"7\">sample_data/era5/run000/test</td>\n",
       "</tr>\n",
       "</tr>\n",
       "</table>\n",
       "        "
      ],
      "text/plain": [
       "<octant.core.TrackRun> [671 tracks]"
      ]
     },
     "execution_count": 10,
     "metadata": {},
     "output_type": "execute_result"
    }
   ],
   "source": [
    "tr"
   ]
  },
  {
   "cell_type": "markdown",
   "metadata": {},
   "source": [
    "In this case, \"long_lived\" do not include the 18 tracks, of which 15 are \"far_travelled_and_very_long_lived\" plus 5 are \"strong\"."
   ]
  },
  {
   "cell_type": "markdown",
   "metadata": {},
   "source": [
    "### More complex functions as filters"
   ]
  },
  {
   "cell_type": "markdown",
   "metadata": {},
   "source": [
    "It is possible to categorise tracks by their proximity to the coast (land) or other masked points in an array with geographical coordinates.\n",
    "For convenience, `octant.misc` module contains `check_by_mask()` function that checks if a cyclone track stays close to land points or domain boundaries for a long enough time. This function is essentially a wrapper around `octant.utils.mask_tracks()` function."
   ]
  },
  {
   "cell_type": "code",
   "execution_count": 11,
   "metadata": {},
   "outputs": [],
   "source": [
    "import xarray as xr\n",
    "\n",
    "from octant.misc import check_by_mask"
   ]
  },
  {
   "cell_type": "markdown",
   "metadata": {},
   "source": [
    "First, reload the `TrackRun` just in case."
   ]
  },
  {
   "cell_type": "code",
   "execution_count": 12,
   "metadata": {},
   "outputs": [],
   "source": [
    "tr = TrackRun(track_res_dir)"
   ]
  },
  {
   "cell_type": "markdown",
   "metadata": {},
   "source": [
    "Load land-sea mask array from ERA5 dataset:"
   ]
  },
  {
   "cell_type": "code",
   "execution_count": 13,
   "metadata": {},
   "outputs": [],
   "source": [
    "lsm = xr.open_dataarray(sample_dir / dataset / 'lsm.nc')\n",
    "lsm = lsm.squeeze()  # remove singular time dimension"
   ]
  },
  {
   "cell_type": "markdown",
   "metadata": {},
   "source": [
    "Importantly, the `classify()` method expects functions that only take 1 argument of type `OctantTrack`, so to use the function above, we need to construct a partial function using `functools` from the standard library."
   ]
  },
  {
   "cell_type": "code",
   "execution_count": 14,
   "metadata": {},
   "outputs": [],
   "source": [
    "from functools import partial"
   ]
  },
  {
   "cell_type": "code",
   "execution_count": 15,
   "metadata": {},
   "outputs": [],
   "source": [
    "land_mask_fun = partial(check_by_mask, trackrun=tr, lsm=lsm, rad=75.)  # and leave `mask_thresh=` to default"
   ]
  },
  {
   "cell_type": "markdown",
   "metadata": {},
   "source": [
    "This new function has been supplied with all the additional arguments, and can take only `OctantTrack`, which is exactly what `classify()` needs.\n",
    "It is then passed as a second filtering function to the list of conditions:"
   ]
  },
  {
   "cell_type": "code",
   "execution_count": 16,
   "metadata": {},
   "outputs": [],
   "source": [
    "new_conditions = [\n",
    "    ('good_candidates', [lambda ot: ot.lifetime_h >= 6, land_mask_fun]),\n",
    "    ('pmc', [lambda ot: ((ot.vortex_type != 0).sum() / ot.shape[0] < 0.2) and (ot.gen_lys_dist_km > 300.0)]),   \n",
    "]"
   ]
  },
  {
   "cell_type": "code",
   "execution_count": 17,
   "metadata": {},
   "outputs": [],
   "source": [
    "tr.classify(new_conditions, True)"
   ]
  },
  {
   "cell_type": "code",
   "execution_count": 18,
   "metadata": {},
   "outputs": [
    {
     "data": {
      "text/html": [
       "\n",
       "<style>\n",
       "  table.octant {\n",
       "      white-space: pre;\n",
       "      border: 1px solid;\n",
       "      border-color: #9c9c9c;\n",
       "      font-family: monaco, monospace;\n",
       "  }\n",
       "  th.octant {\n",
       "      background: #333333;\n",
       "      color: #e0e0e0;\n",
       "      border-left: 1px solid;\n",
       "      border-color: #9c9c9c;\n",
       "      font-size: 1.05em;\n",
       "      min-width: 50px;\n",
       "      max-width: 125px;\n",
       "  }\n",
       "</style>\n",
       "<table class=\"octant\" id=\"139694798405136\">\n",
       "    <tr class=\"octant\">\n",
       "<th class=\"octant octant-word-cell\" colspan=\"8\">octant.core.TrackRun</th>\n",
       "</tr>\n",
       "    <tr class=\"octant\">\n",
       "<td rowspan=\"4\">Categories</td>\n",
       "<tr class=\"octant\">\n",
       "<td class=\"octant octant-word-cell\"></td><td colspan=\"5\">671</td><td>in total</td>\n",
       "</tr>\n",
       "</tr>\n",
       "<tr class=\"octant\">\n",
       "<td class=\"octant octant-word-cell\">of which</td><td class=\"octant octant-word-cell\"colspan=\"5\">101</td><td class=\"octant octant-word-cell\">good_candidates</td>\n",
       "</tr>\n",
       "<tr class=\"octant\">\n",
       "<td class=\"octant octant-word-cell\">of which</td><td class=\"octant octant-word-cell\"colspan=\"5\">36</td><td class=\"octant octant-word-cell\">pmc</td>\n",
       "</tr>\n",
       "<tr class=\"octant\">\n",
       "<td class=\"octant octant-word-cell\">Data columns</td>\n",
       "<td class=\"octant octant-word-cell\">lon</td>\n",
       "<td class=\"octant octant-word-cell\">lat</td>\n",
       "<td class=\"octant octant-word-cell\">vo</td>\n",
       "<td class=\"octant octant-word-cell\">time</td>\n",
       "<td class=\"octant octant-word-cell\">area</td>\n",
       "<td class=\"octant octant-word-cell\">vortex_type</td>\n",
       "<td class=\"octant octant-word-cell\">cat</td>\n",
       "</tr>\n",
       "<tr class=\"octant\">\n",
       "<td class=\"octant octant-word-cell\"                rowspan=\"2\">Sources</td>\n",
       "<tr class=\"octant\">\n",
       "<td class=\"octant octant-word-cell\"                             colspan=\"7\">sample_data/era5/run000/test</td>\n",
       "</tr>\n",
       "</tr>\n",
       "</table>\n",
       "        "
      ],
      "text/plain": [
       "<octant.core.TrackRun> [671 tracks]"
      ]
     },
     "execution_count": 18,
     "metadata": {},
     "output_type": "execute_result"
    }
   ],
   "source": [
    "tr"
   ]
  }
 ],
 "metadata": {
  "kernelspec": {
   "display_name": "Python [conda env:test_env]",
   "language": "python",
   "name": "conda-env-test_env-py"
  },
  "language_info": {
   "codemirror_mode": {
    "name": "ipython",
    "version": 3
   },
   "file_extension": ".py",
   "mimetype": "text/x-python",
   "name": "python",
   "nbconvert_exporter": "python",
   "pygments_lexer": "ipython3",
   "version": "3.6.7"
  }
 },
 "nbformat": 4,
 "nbformat_minor": 2
}
