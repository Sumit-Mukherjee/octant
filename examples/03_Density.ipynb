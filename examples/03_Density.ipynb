{
 "cells": [
  {
   "cell_type": "markdown",
   "metadata": {},
   "source": [
    "# Calculating cyclone density"
   ]
  },
  {
   "cell_type": "markdown",
   "metadata": {},
   "source": [
    "Import all the necessary libraries"
   ]
  },
  {
   "cell_type": "code",
   "execution_count": 1,
   "metadata": {},
   "outputs": [],
   "source": [
    "%matplotlib inline\n",
    "from functools import partial\n",
    "from pathlib import Path\n",
    "\n",
    "from octant import RUNTIME\n",
    "from octant.core import TrackRun\n",
    "from octant.misc import check_by_mask\n",
    "\n",
    "RUNTIME.enable_progress_bar = True"
   ]
  },
  {
   "cell_type": "markdown",
   "metadata": {},
   "source": [
    "Define the common data directory"
   ]
  },
  {
   "cell_type": "code",
   "execution_count": 2,
   "metadata": {},
   "outputs": [],
   "source": [
    "sample_dir = Path('.') / 'sample_data'"
   ]
  },
  {
   "cell_type": "markdown",
   "metadata": {},
   "source": [
    "Data are usually organised in hierarchical directory structure. Here, the relevant parameters are defined."
   ]
  },
  {
   "cell_type": "code",
   "execution_count": 3,
   "metadata": {},
   "outputs": [],
   "source": [
    "dataset = 'era5'\n",
    "period = 'test'\n",
    "run_id = 0"
   ]
  },
  {
   "cell_type": "markdown",
   "metadata": {},
   "source": [
    "Construct the full path"
   ]
  },
  {
   "cell_type": "code",
   "execution_count": 4,
   "metadata": {},
   "outputs": [],
   "source": [
    "track_res_dir = sample_dir / dataset / f'run{run_id:03d}' / period"
   ]
  },
  {
   "cell_type": "markdown",
   "metadata": {},
   "source": [
    "## Load the data"
   ]
  },
  {
   "cell_type": "markdown",
   "metadata": {},
   "source": [
    "Load land-sea mask array from ERA5 dataset:"
   ]
  },
  {
   "cell_type": "code",
   "execution_count": 5,
   "metadata": {},
   "outputs": [],
   "source": [
    "import xarray as xr"
   ]
  },
  {
   "cell_type": "code",
   "execution_count": 6,
   "metadata": {},
   "outputs": [],
   "source": [
    "lsm = xr.open_dataarray(sample_dir / dataset / 'lsm.nc')\n",
    "lsm = lsm.squeeze()  # remove singular time dimension"
   ]
  },
  {
   "cell_type": "markdown",
   "metadata": {},
   "source": [
    "Now load the cyclone tracks themselves"
   ]
  },
  {
   "cell_type": "code",
   "execution_count": 7,
   "metadata": {},
   "outputs": [
    {
     "data": {
      "text/html": [
       "\n",
       "    <div>\n",
       "        <style>\n",
       "            /* Turns off some styling */\n",
       "            progress {\n",
       "                /* gets rid of default border in Firefox and Opera. */\n",
       "                border: none;\n",
       "                /* Needs to be in here for Safari polyfill so background images work as expected. */\n",
       "                background-size: auto;\n",
       "            }\n",
       "            .progress-bar-interrupted, .progress-bar-interrupted::-webkit-progress-bar {\n",
       "                background: #F44336;\n",
       "            }\n",
       "        </style>\n",
       "      <progress value='671' class='' max='671', style='width:300px; height:20px; vertical-align: middle;'></progress>\n",
       "      100.00% [671/671 00:02<00:00]\n",
       "    </div>\n",
       "    "
      ],
      "text/plain": [
       "<IPython.core.display.HTML object>"
      ]
     },
     "metadata": {},
     "output_type": "display_data"
    }
   ],
   "source": [
    "tr = TrackRun(track_res_dir)"
   ]
  },
  {
   "cell_type": "markdown",
   "metadata": {},
   "source": [
    "### Classify the tracks"
   ]
  },
  {
   "cell_type": "code",
   "execution_count": 8,
   "metadata": {},
   "outputs": [],
   "source": [
    "c = [\n",
    "    ('aa', [lambda ot: ot.lifetime_h >= 6, partial(check_by_mask, trackrun=tr, lsm=lsm, rad=50.)]),\n",
    "    ('bb', [lambda ot: (ot.vortex_type != 0).sum() / ot.shape[0] < 0.2,\n",
    "            lambda ot: ot.gen_lys_dist_km > 300.0]),    \n",
    "]"
   ]
  },
  {
   "cell_type": "code",
   "execution_count": 9,
   "metadata": {},
   "outputs": [
    {
     "data": {
      "text/html": [
       "\n",
       "    <div>\n",
       "        <style>\n",
       "            /* Turns off some styling */\n",
       "            progress {\n",
       "                /* gets rid of default border in Firefox and Opera. */\n",
       "                border: none;\n",
       "                /* Needs to be in here for Safari polyfill so background images work as expected. */\n",
       "                background-size: auto;\n",
       "            }\n",
       "            .progress-bar-interrupted, .progress-bar-interrupted::-webkit-progress-bar {\n",
       "                background: #F44336;\n",
       "            }\n",
       "        </style>\n",
       "      <progress value='671' class='' max='671', style='width:300px; height:20px; vertical-align: middle;'></progress>\n",
       "      100.00% [671/671 00:22<00:00]\n",
       "    </div>\n",
       "    "
      ],
      "text/plain": [
       "<IPython.core.display.HTML object>"
      ]
     },
     "metadata": {},
     "output_type": "display_data"
    }
   ],
   "source": [
    "tr.classify(c, True)"
   ]
  },
  {
   "cell_type": "code",
   "execution_count": 10,
   "metadata": {},
   "outputs": [],
   "source": [
    "tr.rename_cats(**{'aa': 'cat1', 'bb': 'cat2'})"
   ]
  },
  {
   "cell_type": "code",
   "execution_count": 11,
   "metadata": {},
   "outputs": [
    {
     "data": {
      "text/html": [
       "\n",
       "<style>\n",
       "  table.octant {\n",
       "      white-space: pre;\n",
       "      border: 1px solid;\n",
       "      border-color: #9c9c9c;\n",
       "      font-family: monaco, monospace;\n",
       "  }\n",
       "  th.octant {\n",
       "      background: #333333;\n",
       "      color: #e0e0e0;\n",
       "      border-left: 1px solid;\n",
       "      border-color: #9c9c9c;\n",
       "      font-size: 1.05em;\n",
       "      min-width: 50px;\n",
       "      max-width: 125px;\n",
       "  }\n",
       "</style>\n",
       "<table class=\"octant\" id=\"140137474349824\">\n",
       "    <tr class=\"octant\">\n",
       "<th class=\"octant octant-word-cell\" colspan=\"8\">octant.core.TrackRun</th>\n",
       "</tr>\n",
       "    <tr class=\"octant\">\n",
       "<td rowspan=\"4\">Categories</td>\n",
       "<tr class=\"octant\">\n",
       "<td class=\"octant octant-word-cell\"></td><td colspan=\"5\">671</td><td>in total</td>\n",
       "</tr>\n",
       "</tr>\n",
       "<tr class=\"octant\">\n",
       "<td class=\"octant octant-word-cell\">of which</td><td class=\"octant octant-word-cell\"colspan=\"5\">131</td><td class=\"octant octant-word-cell\">cat1</td>\n",
       "</tr>\n",
       "<tr class=\"octant\">\n",
       "<td class=\"octant octant-word-cell\">of which</td><td class=\"octant octant-word-cell\"colspan=\"5\">44</td><td class=\"octant octant-word-cell\">cat2</td>\n",
       "</tr>\n",
       "<tr class=\"octant\">\n",
       "<td class=\"octant octant-word-cell\">Data columns</td>\n",
       "<td class=\"octant octant-word-cell\">lon</td>\n",
       "<td class=\"octant octant-word-cell\">lat</td>\n",
       "<td class=\"octant octant-word-cell\">vo</td>\n",
       "<td class=\"octant octant-word-cell\">time</td>\n",
       "<td class=\"octant octant-word-cell\">area</td>\n",
       "<td class=\"octant octant-word-cell\">vortex_type</td>\n",
       "<td class=\"octant octant-word-cell\">cat</td>\n",
       "</tr>\n",
       "<tr class=\"octant\">\n",
       "<td class=\"octant octant-word-cell\"                rowspan=\"2\">Sources</td>\n",
       "<tr class=\"octant\">\n",
       "<td class=\"octant octant-word-cell\"                             colspan=\"7\">sample_data/era5/run000/test</td>\n",
       "</tr>\n",
       "</tr>\n",
       "</table>\n",
       "        "
      ],
      "text/plain": [
       "<octant.core.TrackRun> [671 tracks]"
      ]
     },
     "execution_count": 11,
     "metadata": {},
     "output_type": "execute_result"
    }
   ],
   "source": [
    "tr"
   ]
  },
  {
   "cell_type": "markdown",
   "metadata": {},
   "source": [
    "## Calculate density"
   ]
  },
  {
   "cell_type": "code",
   "execution_count": 12,
   "metadata": {},
   "outputs": [],
   "source": [
    "import numpy as np"
   ]
  },
  {
   "cell_type": "markdown",
   "metadata": {},
   "source": [
    "First, arrays of longitude and latitude are needed to define the grid."
   ]
  },
  {
   "cell_type": "code",
   "execution_count": 13,
   "metadata": {},
   "outputs": [],
   "source": [
    "lon_dens1d = np.arange(-20., 50.1, 1)\n",
    "lat_dens1d = np.arange(65., 85.1, 1)\n",
    "lon_dens, lat_dens = np.meshgrid(lon_dens1d, lat_dens1d)"
   ]
  },
  {
   "cell_type": "code",
   "execution_count": 14,
   "metadata": {},
   "outputs": [],
   "source": [
    "dens = tr.density(lon_dens, lat_dens, method='cell')"
   ]
  },
  {
   "cell_type": "code",
   "execution_count": 15,
   "metadata": {},
   "outputs": [
    {
     "data": {
      "text/plain": [
       "{'unknown': <xarray.DataArray 'point_density' (latitude: 21, longitude: 71)>\n",
       " array([[ 0.,  0.,  0., ...,  0.,  0.,  0.],\n",
       "        [45.,  8., 34., ...,  0.,  0.,  0.],\n",
       "        [10.,  7.,  5., ..., 10.,  0.,  0.],\n",
       "        ...,\n",
       "        [ 5.,  1.,  0., ...,  3.,  0.,  0.],\n",
       "        [ 0.,  0.,  0., ...,  1.,  1.,  0.],\n",
       "        [ 0.,  0.,  0., ...,  0.,  0.,  0.]])\n",
       " Coordinates:\n",
       "   * longitude  (longitude) float64 -20.0 -19.0 -18.0 -17.0 ... 48.0 49.0 50.0\n",
       "   * latitude   (latitude) float64 65.0 66.0 67.0 68.0 ... 82.0 83.0 84.0 85.0\n",
       " Attributes:\n",
       "     units:    1\n",
       "     subset:   unknown\n",
       "     method:   cell,\n",
       " 'cat1': <xarray.DataArray 'point_density' (latitude: 21, longitude: 71)>\n",
       " array([[0., 0., 0., ..., 0., 0., 0.],\n",
       "        [0., 0., 0., ..., 0., 0., 0.],\n",
       "        [1., 0., 0., ..., 0., 0., 0.],\n",
       "        ...,\n",
       "        [1., 0., 0., ..., 0., 0., 0.],\n",
       "        [0., 0., 0., ..., 0., 0., 0.],\n",
       "        [0., 0., 0., ..., 0., 0., 0.]])\n",
       " Coordinates:\n",
       "   * longitude  (longitude) float64 -20.0 -19.0 -18.0 -17.0 ... 48.0 49.0 50.0\n",
       "   * latitude   (latitude) float64 65.0 66.0 67.0 68.0 ... 82.0 83.0 84.0 85.0\n",
       " Attributes:\n",
       "     units:    1\n",
       "     subset:   cat1\n",
       "     method:   cell,\n",
       " 'cat2': <xarray.DataArray 'point_density' (latitude: 21, longitude: 71)>\n",
       " array([[0., 0., 0., ..., 0., 0., 0.],\n",
       "        [0., 0., 0., ..., 0., 0., 0.],\n",
       "        [1., 0., 0., ..., 0., 0., 0.],\n",
       "        ...,\n",
       "        [0., 0., 0., ..., 0., 0., 0.],\n",
       "        [0., 0., 0., ..., 0., 0., 0.],\n",
       "        [0., 0., 0., ..., 0., 0., 0.]])\n",
       " Coordinates:\n",
       "   * longitude  (longitude) float64 -20.0 -19.0 -18.0 -17.0 ... 48.0 49.0 50.0\n",
       "   * latitude   (latitude) float64 65.0 66.0 67.0 68.0 ... 82.0 83.0 84.0 85.0\n",
       " Attributes:\n",
       "     units:    1\n",
       "     subset:   cat2\n",
       "     method:   cell}"
      ]
     },
     "execution_count": 15,
     "metadata": {},
     "output_type": "execute_result"
    }
   ],
   "source": [
    "dens"
   ]
  },
  {
   "cell_type": "code",
   "execution_count": 16,
   "metadata": {},
   "outputs": [
    {
     "data": {
      "text/plain": [
       "<matplotlib.collections.QuadMesh at 0x7f7446ae0ef0>"
      ]
     },
     "execution_count": 16,
     "metadata": {},
     "output_type": "execute_result"
    },
    {
     "data": {
      "image/png": "[encoded data removed]",
      "text/plain": [
       "<Figure size 432x288 with 2 Axes>"
      ]
     },
     "metadata": {
      "needs_background": "light"
     },
     "output_type": "display_data"
    }
   ],
   "source": [
    "dens['cat1'].plot()"
   ]
  }
 ],
 "metadata": {
  "kernelspec": {
   "display_name": "Python [conda env:test_env]",
   "language": "python",
   "name": "conda-env-test_env-py"
  },
  "language_info": {
   "codemirror_mode": {
    "name": "ipython",
    "version": 3
   },
   "file_extension": ".py",
   "mimetype": "text/x-python",
   "name": "python",
   "nbconvert_exporter": "python",
   "pygments_lexer": "ipython3",
   "version": "3.6.7"
  }
 },
 "nbformat": 4,
 "nbformat_minor": 2
}
