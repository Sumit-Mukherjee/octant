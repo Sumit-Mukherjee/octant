{
 "cells": [
  {
   "cell_type": "markdown",
   "metadata": {},
   "source": [
    "# Basic functionality of octant package"
   ]
  },
  {
   "cell_type": "markdown",
   "metadata": {},
   "source": [
    "Import the necessary modules"
   ]
  },
  {
   "cell_type": "code",
   "execution_count": 1,
   "metadata": {},
   "outputs": [],
   "source": [
    "from pathlib import Path\n",
    "from octant.core import TrackRun, OctantTrack, HOUR"
   ]
  },
  {
   "cell_type": "markdown",
   "metadata": {},
   "source": [
    "Define the common data directory"
   ]
  },
  {
   "cell_type": "code",
   "execution_count": 2,
   "metadata": {},
   "outputs": [],
   "source": [
    "sample_dir = Path('.') / 'sample_data'"
   ]
  },
  {
   "cell_type": "markdown",
   "metadata": {},
   "source": [
    "Data are usually organised in hierarchical directory structure. Here, the relevant parameters are defined."
   ]
  },
  {
   "cell_type": "code",
   "execution_count": 3,
   "metadata": {},
   "outputs": [],
   "source": [
    "dataset = 'era5'\n",
    "period = 'test'\n",
    "run_id = 0"
   ]
  },
  {
   "cell_type": "markdown",
   "metadata": {},
   "source": [
    "Construct the full path"
   ]
  },
  {
   "cell_type": "code",
   "execution_count": 4,
   "metadata": {},
   "outputs": [],
   "source": [
    "track_res_dir = sample_dir / dataset / f'run{run_id:03d}' / period"
   ]
  },
  {
   "cell_type": "markdown",
   "metadata": {},
   "source": [
    "## Load the data"
   ]
  },
  {
   "cell_type": "code",
   "execution_count": 5,
   "metadata": {},
   "outputs": [],
   "source": [
    "TR = TrackRun(track_res_dir)"
   ]
  },
  {
   "cell_type": "code",
   "execution_count": 6,
   "metadata": {},
   "outputs": [
    {
     "name": "stdout",
     "output_type": "stream",
     "text": [
      "<octant.core.TrackRun>\n",
      "[671 tracks]\n",
      "\n",
      "Data columns:\n",
      "lon | lat | vo | time | area | vortex_type | cat\n",
      "\n",
      "Sources:\n",
      "sample_data/era5/run000/test\n"
     ]
    }
   ],
   "source": [
    "print(TR)"
   ]
  },
  {
   "cell_type": "markdown",
   "metadata": {},
   "source": [
    "The `TrackRun` object also has an HTML view available in Jupyter Notebooks"
   ]
  },
  {
   "cell_type": "code",
   "execution_count": 7,
   "metadata": {},
   "outputs": [
    {
     "data": {
      "text/html": [
       "\n",
       "<style>\n",
       "  table.octant {\n",
       "      white-space: pre;\n",
       "      border: 1px solid;\n",
       "      border-color: #9c9c9c;\n",
       "      font-family: monaco, monospace;\n",
       "  }\n",
       "  th.octant {\n",
       "      background: #333333;\n",
       "      color: #e0e0e0;\n",
       "      border-left: 1px solid;\n",
       "      border-color: #9c9c9c;\n",
       "      font-size: 1.05em;\n",
       "      min-width: 50px;\n",
       "      max-width: 125px;\n",
       "  }\n",
       "</style>\n",
       "<table class=\"octant\" id=\"140405235107376\">\n",
       "    <tr class=\"octant\">\n",
       "<th class=\"octant octant-word-cell\" colspan=\"8\">octant.core.TrackRun</th>\n",
       "</tr>\n",
       "    <tr class=\"octant\">\n",
       "<td class=\"octant octant-word-cell\">Number of tracks</td>\n",
       "<td class=\"octant octant-word-cell\" colspan=\"7\">671</td>\n",
       "</tr>\n",
       "<tr class=\"octant\">\n",
       "<td class=\"octant octant-word-cell\">Data columns</td>\n",
       "<td class=\"octant octant-word-cell\">lon</td>\n",
       "<td class=\"octant octant-word-cell\">lat</td>\n",
       "<td class=\"octant octant-word-cell\">vo</td>\n",
       "<td class=\"octant octant-word-cell\">time</td>\n",
       "<td class=\"octant octant-word-cell\">area</td>\n",
       "<td class=\"octant octant-word-cell\">vortex_type</td>\n",
       "<td class=\"octant octant-word-cell\">cat</td>\n",
       "</tr>\n",
       "<tr class=\"octant\">\n",
       "<td class=\"octant octant-word-cell\"                rowspan=\"2\">Sources</td>\n",
       "<tr class=\"octant\">\n",
       "<td class=\"octant octant-word-cell\"                             colspan=\"7\">sample_data/era5/run000/test</td>\n",
       "</tr>\n",
       "</tr>\n",
       "</table>\n",
       "        "
      ],
      "text/plain": [
       "<octant.core.TrackRun> [671 tracks]"
      ]
     },
     "execution_count": 7,
     "metadata": {},
     "output_type": "execute_result"
    }
   ],
   "source": [
    "TR"
   ]
  },
  {
   "cell_type": "code",
   "execution_count": 8,
   "metadata": {},
   "outputs": [
    {
     "data": {
      "text/plain": [
       "octant.core.TrackRun"
      ]
     },
     "execution_count": 8,
     "metadata": {},
     "output_type": "execute_result"
    }
   ],
   "source": [
    "type(TR)"
   ]
  },
  {
   "cell_type": "code",
   "execution_count": 9,
   "metadata": {},
   "outputs": [
    {
     "data": {
      "text/plain": [
       "671"
      ]
     },
     "execution_count": 9,
     "metadata": {},
     "output_type": "execute_result"
    }
   ],
   "source": [
    "len(TR)"
   ]
  },
  {
   "cell_type": "code",
   "execution_count": 10,
   "metadata": {},
   "outputs": [
    {
     "data": {
      "text/plain": [
       "671"
      ]
     },
     "execution_count": 10,
     "metadata": {},
     "output_type": "execute_result"
    }
   ],
   "source": [
    "TR.size()"
   ]
  },
  {
   "cell_type": "code",
   "execution_count": 11,
   "metadata": {},
   "outputs": [
    {
     "data": {
      "text/plain": [
       "1.0"
      ]
     },
     "execution_count": 11,
     "metadata": {},
     "output_type": "execute_result"
    }
   ],
   "source": [
    "TR.tstep_h"
   ]
  },
  {
   "cell_type": "markdown",
   "metadata": {},
   "source": [
    "### Initialisation"
   ]
  },
  {
   "cell_type": "markdown",
   "metadata": {},
   "source": [
    "`TrackRun` class can be initialised empty:"
   ]
  },
  {
   "cell_type": "code",
   "execution_count": 12,
   "metadata": {},
   "outputs": [],
   "source": [
    "tr_empty = TrackRun()"
   ]
  },
  {
   "cell_type": "code",
   "execution_count": 13,
   "metadata": {},
   "outputs": [
    {
     "name": "stdout",
     "output_type": "stream",
     "text": [
      "<octant.core.TrackRun>\n",
      "[0 tracks]\n"
     ]
    }
   ],
   "source": [
    "print(tr_empty)"
   ]
  },
  {
   "cell_type": "markdown",
   "metadata": {},
   "source": [
    "### Concatenate data from several directories"
   ]
  },
  {
   "cell_type": "markdown",
   "metadata": {},
   "source": [
    "```python\n",
    "TR = TrackRun(one_directory)\n",
    "TR2 = TrackRun(another_directory)\n",
    "TR.extend(TR2)\n",
    "```"
   ]
  },
  {
   "cell_type": "markdown",
   "metadata": {},
   "source": [
    "or"
   ]
  },
  {
   "cell_type": "markdown",
   "metadata": {},
   "source": [
    "```python\n",
    "TR += TrackRun(another_directory)\n",
    "```"
   ]
  },
  {
   "cell_type": "markdown",
   "metadata": {},
   "source": [
    "## Units of TrackRun"
   ]
  },
  {
   "cell_type": "code",
   "execution_count": 14,
   "metadata": {},
   "outputs": [],
   "source": [
    "import random"
   ]
  },
  {
   "cell_type": "markdown",
   "metadata": {},
   "source": [
    "Each cyclone track stored in lists of `TrackRun` class as a `OctantTrack` instance"
   ]
  },
  {
   "cell_type": "code",
   "execution_count": 15,
   "metadata": {},
   "outputs": [],
   "source": [
    "ot = random.choice([*TR[:].groupby('track_idx')])[1]"
   ]
  },
  {
   "cell_type": "markdown",
   "metadata": {},
   "source": [
    "It is essentially a sub-class of pandas.DataFrame"
   ]
  },
  {
   "cell_type": "code",
   "execution_count": 16,
   "metadata": {},
   "outputs": [
    {
     "data": {
      "text/html": [
       "<div>\n",
       "<style scoped>\n",
       "    .dataframe tbody tr th:only-of-type {\n",
       "        vertical-align: middle;\n",
       "    }\n",
       "\n",
       "    .dataframe tbody tr th {\n",
       "        vertical-align: top;\n",
       "    }\n",
       "\n",
       "    .dataframe thead th {\n",
       "        text-align: right;\n",
       "    }\n",
       "</style>\n",
       "<table border=\"1\" class=\"dataframe\">\n",
       "  <thead>\n",
       "    <tr style=\"text-align: right;\">\n",
       "      <th></th>\n",
       "      <th></th>\n",
       "      <th>lon</th>\n",
       "      <th>lat</th>\n",
       "      <th>vo</th>\n",
       "      <th>time</th>\n",
       "      <th>area</th>\n",
       "      <th>vortex_type</th>\n",
       "      <th>cat</th>\n",
       "    </tr>\n",
       "    <tr>\n",
       "      <th>track_idx</th>\n",
       "      <th>row_idx</th>\n",
       "      <th></th>\n",
       "      <th></th>\n",
       "      <th></th>\n",
       "      <th></th>\n",
       "      <th></th>\n",
       "      <th></th>\n",
       "      <th></th>\n",
       "    </tr>\n",
       "  </thead>\n",
       "  <tbody>\n",
       "    <tr>\n",
       "      <th rowspan=\"15\" valign=\"top\">376</th>\n",
       "      <th>0</th>\n",
       "      <td>-14.7</td>\n",
       "      <td>82.2</td>\n",
       "      <td>0.000202</td>\n",
       "      <td>2011-01-20 04:00:00</td>\n",
       "      <td>6864.74902</td>\n",
       "      <td>0</td>\n",
       "      <td>0</td>\n",
       "    </tr>\n",
       "    <tr>\n",
       "      <th>1</th>\n",
       "      <td>-15.0</td>\n",
       "      <td>82.2</td>\n",
       "      <td>0.000201</td>\n",
       "      <td>2011-01-20 05:00:00</td>\n",
       "      <td>7802.58154</td>\n",
       "      <td>0</td>\n",
       "      <td>0</td>\n",
       "    </tr>\n",
       "    <tr>\n",
       "      <th>2</th>\n",
       "      <td>-15.3</td>\n",
       "      <td>82.2</td>\n",
       "      <td>0.000210</td>\n",
       "      <td>2011-01-20 06:00:00</td>\n",
       "      <td>8198.72656</td>\n",
       "      <td>0</td>\n",
       "      <td>0</td>\n",
       "    </tr>\n",
       "    <tr>\n",
       "      <th>3</th>\n",
       "      <td>-15.3</td>\n",
       "      <td>82.2</td>\n",
       "      <td>0.000214</td>\n",
       "      <td>2011-01-20 07:00:00</td>\n",
       "      <td>9177.82031</td>\n",
       "      <td>0</td>\n",
       "      <td>0</td>\n",
       "    </tr>\n",
       "    <tr>\n",
       "      <th>4</th>\n",
       "      <td>-15.0</td>\n",
       "      <td>82.2</td>\n",
       "      <td>0.000214</td>\n",
       "      <td>2011-01-20 08:00:00</td>\n",
       "      <td>9038.06445</td>\n",
       "      <td>0</td>\n",
       "      <td>0</td>\n",
       "    </tr>\n",
       "    <tr>\n",
       "      <th>5</th>\n",
       "      <td>-15.0</td>\n",
       "      <td>82.2</td>\n",
       "      <td>0.000209</td>\n",
       "      <td>2011-01-20 09:00:00</td>\n",
       "      <td>7884.43018</td>\n",
       "      <td>0</td>\n",
       "      <td>0</td>\n",
       "    </tr>\n",
       "    <tr>\n",
       "      <th>6</th>\n",
       "      <td>-19.2</td>\n",
       "      <td>83.1</td>\n",
       "      <td>0.000292</td>\n",
       "      <td>2011-01-20 10:00:00</td>\n",
       "      <td>18185.89258</td>\n",
       "      <td>0</td>\n",
       "      <td>0</td>\n",
       "    </tr>\n",
       "    <tr>\n",
       "      <th>7</th>\n",
       "      <td>-18.9</td>\n",
       "      <td>83.1</td>\n",
       "      <td>0.000298</td>\n",
       "      <td>2011-01-20 11:00:00</td>\n",
       "      <td>18017.74805</td>\n",
       "      <td>0</td>\n",
       "      <td>0</td>\n",
       "    </tr>\n",
       "    <tr>\n",
       "      <th>8</th>\n",
       "      <td>-18.3</td>\n",
       "      <td>82.8</td>\n",
       "      <td>0.000299</td>\n",
       "      <td>2011-01-20 12:00:00</td>\n",
       "      <td>19019.00391</td>\n",
       "      <td>0</td>\n",
       "      <td>0</td>\n",
       "    </tr>\n",
       "    <tr>\n",
       "      <th>9</th>\n",
       "      <td>-17.7</td>\n",
       "      <td>82.8</td>\n",
       "      <td>0.000293</td>\n",
       "      <td>2011-01-20 13:00:00</td>\n",
       "      <td>19356.43750</td>\n",
       "      <td>0</td>\n",
       "      <td>0</td>\n",
       "    </tr>\n",
       "    <tr>\n",
       "      <th>10</th>\n",
       "      <td>-17.4</td>\n",
       "      <td>82.8</td>\n",
       "      <td>0.000283</td>\n",
       "      <td>2011-01-20 14:00:00</td>\n",
       "      <td>18499.81641</td>\n",
       "      <td>0</td>\n",
       "      <td>0</td>\n",
       "    </tr>\n",
       "    <tr>\n",
       "      <th>11</th>\n",
       "      <td>-17.1</td>\n",
       "      <td>81.9</td>\n",
       "      <td>0.000309</td>\n",
       "      <td>2011-01-20 15:00:00</td>\n",
       "      <td>16203.83984</td>\n",
       "      <td>0</td>\n",
       "      <td>0</td>\n",
       "    </tr>\n",
       "    <tr>\n",
       "      <th>12</th>\n",
       "      <td>-16.5</td>\n",
       "      <td>81.9</td>\n",
       "      <td>0.000341</td>\n",
       "      <td>2011-01-20 16:00:00</td>\n",
       "      <td>14386.16211</td>\n",
       "      <td>0</td>\n",
       "      <td>0</td>\n",
       "    </tr>\n",
       "    <tr>\n",
       "      <th>13</th>\n",
       "      <td>-15.6</td>\n",
       "      <td>81.9</td>\n",
       "      <td>0.000349</td>\n",
       "      <td>2011-01-20 17:00:00</td>\n",
       "      <td>12277.50195</td>\n",
       "      <td>0</td>\n",
       "      <td>0</td>\n",
       "    </tr>\n",
       "    <tr>\n",
       "      <th>14</th>\n",
       "      <td>-15.0</td>\n",
       "      <td>81.9</td>\n",
       "      <td>0.000300</td>\n",
       "      <td>2011-01-20 18:00:00</td>\n",
       "      <td>9475.77441</td>\n",
       "      <td>0</td>\n",
       "      <td>0</td>\n",
       "    </tr>\n",
       "  </tbody>\n",
       "</table>\n",
       "</div>"
      ],
      "text/plain": [
       "                    lon   lat        vo                time         area  \\\n",
       "track_idx row_idx                                                          \n",
       "376       0       -14.7  82.2  0.000202 2011-01-20 04:00:00   6864.74902   \n",
       "          1       -15.0  82.2  0.000201 2011-01-20 05:00:00   7802.58154   \n",
       "          2       -15.3  82.2  0.000210 2011-01-20 06:00:00   8198.72656   \n",
       "          3       -15.3  82.2  0.000214 2011-01-20 07:00:00   9177.82031   \n",
       "          4       -15.0  82.2  0.000214 2011-01-20 08:00:00   9038.06445   \n",
       "          5       -15.0  82.2  0.000209 2011-01-20 09:00:00   7884.43018   \n",
       "          6       -19.2  83.1  0.000292 2011-01-20 10:00:00  18185.89258   \n",
       "          7       -18.9  83.1  0.000298 2011-01-20 11:00:00  18017.74805   \n",
       "          8       -18.3  82.8  0.000299 2011-01-20 12:00:00  19019.00391   \n",
       "          9       -17.7  82.8  0.000293 2011-01-20 13:00:00  19356.43750   \n",
       "          10      -17.4  82.8  0.000283 2011-01-20 14:00:00  18499.81641   \n",
       "          11      -17.1  81.9  0.000309 2011-01-20 15:00:00  16203.83984   \n",
       "          12      -16.5  81.9  0.000341 2011-01-20 16:00:00  14386.16211   \n",
       "          13      -15.6  81.9  0.000349 2011-01-20 17:00:00  12277.50195   \n",
       "          14      -15.0  81.9  0.000300 2011-01-20 18:00:00   9475.77441   \n",
       "\n",
       "                   vortex_type  cat  \n",
       "track_idx row_idx                    \n",
       "376       0                  0    0  \n",
       "          1                  0    0  \n",
       "          2                  0    0  \n",
       "          3                  0    0  \n",
       "          4                  0    0  \n",
       "          5                  0    0  \n",
       "          6                  0    0  \n",
       "          7                  0    0  \n",
       "          8                  0    0  \n",
       "          9                  0    0  \n",
       "          10                 0    0  \n",
       "          11                 0    0  \n",
       "          12                 0    0  \n",
       "          13                 0    0  \n",
       "          14                 0    0  "
      ]
     },
     "execution_count": 16,
     "metadata": {},
     "output_type": "execute_result"
    }
   ],
   "source": [
    "ot"
   ]
  },
  {
   "cell_type": "code",
   "execution_count": 17,
   "metadata": {},
   "outputs": [
    {
     "data": {
      "text/plain": [
       "octant.core.OctantTrack"
      ]
     },
     "execution_count": 17,
     "metadata": {},
     "output_type": "execute_result"
    }
   ],
   "source": [
    "type(ot)"
   ]
  },
  {
   "cell_type": "markdown",
   "metadata": {},
   "source": [
    "It has a few useful properties"
   ]
  },
  {
   "cell_type": "code",
   "execution_count": 18,
   "metadata": {},
   "outputs": [
    {
     "data": {
      "text/plain": [
       "14.0"
      ]
     },
     "execution_count": 18,
     "metadata": {},
     "output_type": "execute_result"
    }
   ],
   "source": [
    "ot.lifetime_h"
   ]
  },
  {
   "cell_type": "code",
   "execution_count": 19,
   "metadata": {},
   "outputs": [
    {
     "data": {
      "text/plain": [
       "314.0453724655085"
      ]
     },
     "execution_count": 19,
     "metadata": {},
     "output_type": "execute_result"
    }
   ],
   "source": [
    "ot.total_dist_km"
   ]
  },
  {
   "cell_type": "markdown",
   "metadata": {},
   "source": [
    "including maximum and mean vorticity in $ s^{-1}$:"
   ]
  },
  {
   "cell_type": "code",
   "execution_count": 20,
   "metadata": {},
   "outputs": [
    {
     "data": {
      "text/plain": [
       "(0.00034919, 0.0002675873333333334)"
      ]
     },
     "execution_count": 20,
     "metadata": {},
     "output_type": "execute_result"
    }
   ],
   "source": [
    "ot.max_vort, ot.mean_vort"
   ]
  },
  {
   "cell_type": "code",
   "execution_count": 21,
   "metadata": {},
   "outputs": [
    {
     "data": {
      "text/plain": [
       "33.675964538523665"
      ]
     },
     "execution_count": 21,
     "metadata": {},
     "output_type": "execute_result"
    }
   ],
   "source": [
    "ot.gen_lys_dist_km"
   ]
  },
  {
   "cell_type": "code",
   "execution_count": 22,
   "metadata": {},
   "outputs": [
    {
     "data": {
      "text/plain": [
       "22.43181231896489"
      ]
     },
     "execution_count": 22,
     "metadata": {},
     "output_type": "execute_result"
    }
   ],
   "source": [
    "ot.average_speed"
   ]
  },
  {
   "cell_type": "code",
   "execution_count": 23,
   "metadata": {},
   "outputs": [
    {
     "data": {
      "text/plain": [
       "array([[-14.7,  82.2],\n",
       "       [-15. ,  82.2],\n",
       "       [-15.3,  82.2],\n",
       "       [-15.3,  82.2],\n",
       "       [-15. ,  82.2],\n",
       "       [-15. ,  82.2],\n",
       "       [-19.2,  83.1],\n",
       "       [-18.9,  83.1],\n",
       "       [-18.3,  82.8],\n",
       "       [-17.7,  82.8],\n",
       "       [-17.4,  82.8],\n",
       "       [-17.1,  81.9],\n",
       "       [-16.5,  81.9],\n",
       "       [-15.6,  81.9],\n",
       "       [-15. ,  81.9]])"
      ]
     },
     "execution_count": 23,
     "metadata": {},
     "output_type": "execute_result"
    }
   ],
   "source": [
    "ot.lonlat"
   ]
  },
  {
   "cell_type": "markdown",
   "metadata": {},
   "source": [
    "## Running octant with a progress bar"
   ]
  },
  {
   "cell_type": "markdown",
   "metadata": {},
   "source": [
    "Having either the `fastprogress` or `tqdm` module installed allows for running some methods with a bar that shows progress. To enable it, set the attribute of `RUNTIME` variable to `True`:"
   ]
  },
  {
   "cell_type": "code",
   "execution_count": 24,
   "metadata": {},
   "outputs": [],
   "source": [
    "import octant\n",
    "octant.RUNTIME.enable_progress_bar = True"
   ]
  },
  {
   "cell_type": "code",
   "execution_count": 25,
   "metadata": {},
   "outputs": [],
   "source": [
    "conditions = [\n",
    "    ('long_lived', [lambda ot: ot.lifetime_h >= 6]),\n",
    "    ('far_travelled_and_very_long_lived', [lambda ot: ot.lifetime_h >= 36,\n",
    "                                           lambda ot: ot.gen_lys_dist_km > 300.0]),\n",
    "    ('strong', [lambda x: x.max_vort > 1e-3])\n",
    "]"
   ]
  },
  {
   "cell_type": "code",
   "execution_count": 26,
   "metadata": {},
   "outputs": [
    {
     "data": {
      "text/html": [
       "\n",
       "    <div>\n",
       "        <style>\n",
       "            /* Turns off some styling */\n",
       "            progress {\n",
       "                /* gets rid of default border in Firefox and Opera. */\n",
       "                border: none;\n",
       "                /* Needs to be in here for Safari polyfill so background images work as expected. */\n",
       "                background-size: auto;\n",
       "            }\n",
       "            .progress-bar-interrupted, .progress-bar-interrupted::-webkit-progress-bar {\n",
       "                background: #F44336;\n",
       "            }\n",
       "        </style>\n",
       "      <progress value='671' class='' max='671', style='width:300px; height:20px; vertical-align: middle;'></progress>\n",
       "      100.00% [671/671 00:01<00:00]\n",
       "    </div>\n",
       "    "
      ],
      "text/plain": [
       "<IPython.core.display.HTML object>"
      ]
     },
     "metadata": {},
     "output_type": "display_data"
    }
   ],
   "source": [
    "TR.classify(conditions)"
   ]
  },
  {
   "cell_type": "markdown",
   "metadata": {},
   "source": [
    "More `classify()` [examples](01_Categorisation.ipynb)"
   ]
  },
  {
   "cell_type": "markdown",
   "metadata": {},
   "source": [
    "## octant's utilities"
   ]
  },
  {
   "cell_type": "code",
   "execution_count": 27,
   "metadata": {},
   "outputs": [],
   "source": [
    "from octant.utils import great_circle"
   ]
  },
  {
   "cell_type": "code",
   "execution_count": 28,
   "metadata": {},
   "outputs": [
    {
     "data": {
      "text/plain": [
       "222826.50759451024"
      ]
     },
     "execution_count": 28,
     "metadata": {},
     "output_type": "execute_result"
    }
   ],
   "source": [
    "great_circle(lon1=9.6, lon2=10.2, lat1=76.9, lat2=78.9)"
   ]
  }
 ],
 "metadata": {
  "kernelspec": {
   "display_name": "Python [conda env:test_env]",
   "language": "python",
   "name": "conda-env-test_env-py"
  },
  "language_info": {
   "codemirror_mode": {
    "name": "ipython",
    "version": 3
   },
   "file_extension": ".py",
   "mimetype": "text/x-python",
   "name": "python",
   "nbconvert_exporter": "python",
   "pygments_lexer": "ipython3",
   "version": "3.6.7"
  }
 },
 "nbformat": 4,
 "nbformat_minor": 2
}
