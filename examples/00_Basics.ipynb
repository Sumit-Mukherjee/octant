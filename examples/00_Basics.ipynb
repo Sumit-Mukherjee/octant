{
 "cells": [
  {
   "cell_type": "markdown",
   "metadata": {},
   "source": [
    "# Basic functionality of octant package"
   ]
  },
  {
   "cell_type": "markdown",
   "metadata": {},
   "source": [
    "Import the necessary modules"
   ]
  },
  {
   "cell_type": "code",
   "execution_count": 1,
   "metadata": {},
   "outputs": [],
   "source": [
    "from pathlib import Path\n",
    "from octant.core import TrackRun, OctantTrack, HOUR"
   ]
  },
  {
   "cell_type": "markdown",
   "metadata": {},
   "source": [
    "Define the common data directory"
   ]
  },
  {
   "cell_type": "code",
   "execution_count": 2,
   "metadata": {},
   "outputs": [],
   "source": [
    "sample_dir = Path('.') / 'sample_data'"
   ]
  },
  {
   "cell_type": "markdown",
   "metadata": {},
   "source": [
    "Data are usually organised in hierarchical directory structure. Here, the relevant parameters are defined."
   ]
  },
  {
   "cell_type": "code",
   "execution_count": 3,
   "metadata": {},
   "outputs": [],
   "source": [
    "dataset = 'era5'\n",
    "period = 'test'\n",
    "run_id = 0"
   ]
  },
  {
   "cell_type": "markdown",
   "metadata": {},
   "source": [
    "Construct the full path"
   ]
  },
  {
   "cell_type": "code",
   "execution_count": 4,
   "metadata": {},
   "outputs": [],
   "source": [
    "track_res_dir = sample_dir / dataset / f'run{run_id:03d}' / period"
   ]
  },
  {
   "cell_type": "markdown",
   "metadata": {},
   "source": [
    "## Load the data"
   ]
  },
  {
   "cell_type": "code",
   "execution_count": 5,
   "metadata": {},
   "outputs": [],
   "source": [
    "TR = TrackRun(track_res_dir)"
   ]
  },
  {
   "cell_type": "code",
   "execution_count": 6,
   "metadata": {},
   "outputs": [
    {
     "name": "stdout",
     "output_type": "stream",
     "text": [
      "<octant.core.TrackRun>\n",
      "[671 tracks]\n",
      "\n",
      "Data columns:\n",
      "lon | lat | vo | time | area | vortex_type | cat\n",
      "\n",
      "Sources:\n",
      "sample_data/era5/run000/test\n"
     ]
    }
   ],
   "source": [
    "print(TR)"
   ]
  },
  {
   "cell_type": "markdown",
   "metadata": {},
   "source": [
    "The `TrackRun` object also has an HTML view available in Jupyter Notebooks"
   ]
  },
  {
   "cell_type": "code",
   "execution_count": 7,
   "metadata": {},
   "outputs": [
    {
     "data": {
      "text/html": [
       "\n",
       "<style>\n",
       "  table.octant {\n",
       "      white-space: pre;\n",
       "      border: 1px solid;\n",
       "      border-color: #9c9c9c;\n",
       "      font-family: monaco, monospace;\n",
       "  }\n",
       "  th.octant {\n",
       "      background: #333333;\n",
       "      color: #e0e0e0;\n",
       "      border-left: 1px solid;\n",
       "      border-color: #9c9c9c;\n",
       "      font-size: 1.05em;\n",
       "      min-width: 50px;\n",
       "      max-width: 125px;\n",
       "  }\n",
       "</style>\n",
       "<table class=\"octant\" id=\"139856216560472\">\n",
       "    <tr class=\"octant\">\n",
       "<th class=\"octant octant-word-cell\" colspan=\"8\">octant.core.TrackRun</th>\n",
       "</tr>\n",
       "    <tr class=\"octant\">\n",
       "<td class=\"octant octant-word-cell\">Number of tracks</td>\n",
       "<td class=\"octant octant-word-cell\" colspan=\"7\">671</td>\n",
       "</tr>\n",
       "<tr class=\"octant\">\n",
       "<td class=\"octant octant-word-cell\">Data columns</td>\n",
       "<td class=\"octant octant-word-cell\">lon</td>\n",
       "<td class=\"octant octant-word-cell\">lat</td>\n",
       "<td class=\"octant octant-word-cell\">vo</td>\n",
       "<td class=\"octant octant-word-cell\">time</td>\n",
       "<td class=\"octant octant-word-cell\">area</td>\n",
       "<td class=\"octant octant-word-cell\">vortex_type</td>\n",
       "<td class=\"octant octant-word-cell\">cat</td>\n",
       "</tr>\n",
       "<tr class=\"octant\">\n",
       "<td class=\"octant octant-word-cell\"                rowspan=\"2\">Sources</td>\n",
       "<tr class=\"octant\">\n",
       "<td class=\"octant octant-word-cell\"                             colspan=\"7\">sample_data/era5/run000/test</td>\n",
       "</tr>\n",
       "</tr>\n",
       "</table>\n",
       "        "
      ],
      "text/plain": [
       "<octant.core.TrackRun> [671 tracks]"
      ]
     },
     "execution_count": 7,
     "metadata": {},
     "output_type": "execute_result"
    }
   ],
   "source": [
    "TR"
   ]
  },
  {
   "cell_type": "code",
   "execution_count": 8,
   "metadata": {},
   "outputs": [
    {
     "data": {
      "text/plain": [
       "octant.core.TrackRun"
      ]
     },
     "execution_count": 8,
     "metadata": {},
     "output_type": "execute_result"
    }
   ],
   "source": [
    "type(TR)"
   ]
  },
  {
   "cell_type": "code",
   "execution_count": 9,
   "metadata": {},
   "outputs": [
    {
     "data": {
      "text/plain": [
       "671"
      ]
     },
     "execution_count": 9,
     "metadata": {},
     "output_type": "execute_result"
    }
   ],
   "source": [
    "len(TR)"
   ]
  },
  {
   "cell_type": "code",
   "execution_count": 10,
   "metadata": {},
   "outputs": [
    {
     "data": {
      "text/plain": [
       "1.0"
      ]
     },
     "execution_count": 10,
     "metadata": {},
     "output_type": "execute_result"
    }
   ],
   "source": [
    "TR.tstep_h"
   ]
  },
  {
   "cell_type": "markdown",
   "metadata": {},
   "source": [
    "### Concatenate data from several directories"
   ]
  },
  {
   "cell_type": "code",
   "execution_count": 11,
   "metadata": {},
   "outputs": [],
   "source": [
    "# TR = TrackRun(one_directory)\n",
    "# TR2 = TrackRun(another_directory)\n",
    "# TR.extend(TR2)\n",
    "## or\n",
    "# TR += TrackRun(another_directory)"
   ]
  },
  {
   "cell_type": "markdown",
   "metadata": {},
   "source": [
    "`TrackRun` class can be initialised empty:"
   ]
  },
  {
   "cell_type": "code",
   "execution_count": 12,
   "metadata": {},
   "outputs": [],
   "source": [
    "tr_empty = TrackRun()"
   ]
  },
  {
   "cell_type": "code",
   "execution_count": 13,
   "metadata": {},
   "outputs": [
    {
     "name": "stdout",
     "output_type": "stream",
     "text": [
      "<octant.core.TrackRun>\n",
      "[0 tracks]\n"
     ]
    }
   ],
   "source": [
    "print(tr_empty)"
   ]
  },
  {
   "cell_type": "markdown",
   "metadata": {},
   "source": [
    "## Categorise tracks by different filters"
   ]
  },
  {
   "cell_type": "code",
   "execution_count": 14,
   "metadata": {},
   "outputs": [],
   "source": [
    "import xarray as xr"
   ]
  },
  {
   "cell_type": "code",
   "execution_count": 15,
   "metadata": {},
   "outputs": [],
   "source": [
    "lsm = xr.open_dataarray(sample_dir / dataset / 'lsm.nc')\n",
    "lsm = lsm.squeeze()  # remove singular time dimension"
   ]
  },
  {
   "cell_type": "code",
   "execution_count": 16,
   "metadata": {},
   "outputs": [
    {
     "name": "stderr",
     "output_type": "stream",
     "text": [
      "/local/denis/software/octant/octant/core.py:506: DeprecatedWarning: Use the new classify() function\n",
      "  warnings.warn(\"Use the new classify() function\", DeprecatedWarning)\n"
     ]
    }
   ],
   "source": [
    "TR.categorise(lsm=lsm, filt_by_dist=False, filt_by_land=True, filt_by_domain_bounds=True, coast_rad=50)"
   ]
  },
  {
   "cell_type": "code",
   "execution_count": 17,
   "metadata": {},
   "outputs": [
    {
     "data": {
      "text/html": [
       "\n",
       "<style>\n",
       "  table.octant {\n",
       "      white-space: pre;\n",
       "      border: 1px solid;\n",
       "      border-color: #9c9c9c;\n",
       "      font-family: monaco, monospace;\n",
       "  }\n",
       "  th.octant {\n",
       "      background: #333333;\n",
       "      color: #e0e0e0;\n",
       "      border-left: 1px solid;\n",
       "      border-color: #9c9c9c;\n",
       "      font-size: 1.05em;\n",
       "      min-width: 50px;\n",
       "      max-width: 125px;\n",
       "  }\n",
       "</style>\n",
       "<table class=\"octant\" id=\"139856216560472\">\n",
       "    <tr class=\"octant\">\n",
       "<th class=\"octant octant-word-cell\" colspan=\"8\">octant.core.TrackRun</th>\n",
       "</tr>\n",
       "    <tr class=\"octant\">\n",
       "<td rowspan=\"5\">Categories</td>\n",
       "<tr class=\"octant\">\n",
       "<td class=\"octant octant-word-cell\"></td><td colspan=\"5\">671</td><td>in total</td>\n",
       "</tr>\n",
       "</tr>\n",
       "<tr class=\"octant\">\n",
       "<td class=\"octant octant-word-cell\">of which</td><td class=\"octant octant-word-cell\"colspan=\"5\">135</td><td class=\"octant octant-word-cell\">basic</td>\n",
       "</tr>\n",
       "<tr class=\"octant\">\n",
       "<td class=\"octant octant-word-cell\">of which</td><td class=\"octant octant-word-cell\"colspan=\"5\">90</td><td class=\"octant octant-word-cell\">moderate</td>\n",
       "</tr>\n",
       "<tr class=\"octant\">\n",
       "<td class=\"octant octant-word-cell\">of which</td><td class=\"octant octant-word-cell\"colspan=\"5\">5</td><td class=\"octant octant-word-cell\">strong</td>\n",
       "</tr>\n",
       "<tr class=\"octant\">\n",
       "<td class=\"octant octant-word-cell\">Data columns</td>\n",
       "<td class=\"octant octant-word-cell\">lon</td>\n",
       "<td class=\"octant octant-word-cell\">lat</td>\n",
       "<td class=\"octant octant-word-cell\">vo</td>\n",
       "<td class=\"octant octant-word-cell\">time</td>\n",
       "<td class=\"octant octant-word-cell\">area</td>\n",
       "<td class=\"octant octant-word-cell\">vortex_type</td>\n",
       "<td class=\"octant octant-word-cell\">cat</td>\n",
       "</tr>\n",
       "<tr class=\"octant\">\n",
       "<td class=\"octant octant-word-cell\"                rowspan=\"2\">Sources</td>\n",
       "<tr class=\"octant\">\n",
       "<td class=\"octant octant-word-cell\"                             colspan=\"7\">sample_data/era5/run000/test</td>\n",
       "</tr>\n",
       "</tr>\n",
       "</table>\n",
       "        "
      ],
      "text/plain": [
       "<octant.core.TrackRun> [671 tracks]"
      ]
     },
     "execution_count": 17,
     "metadata": {},
     "output_type": "execute_result"
    }
   ],
   "source": [
    "TR"
   ]
  },
  {
   "cell_type": "code",
   "execution_count": 18,
   "metadata": {},
   "outputs": [
    {
     "data": {
      "text/plain": [
       "(671, 135, 90)"
      ]
     },
     "execution_count": 18,
     "metadata": {},
     "output_type": "execute_result"
    }
   ],
   "source": [
    "TR.size(), TR.size('basic'), TR.size('moderate')"
   ]
  },
  {
   "cell_type": "markdown",
   "metadata": {},
   "source": [
    "## Units of TrackRun"
   ]
  },
  {
   "cell_type": "code",
   "execution_count": 19,
   "metadata": {},
   "outputs": [],
   "source": [
    "import random"
   ]
  },
  {
   "cell_type": "markdown",
   "metadata": {},
   "source": [
    "Each cyclone track stored in lists of `TrackRun` class as a `OctantTrack` instance"
   ]
  },
  {
   "cell_type": "code",
   "execution_count": 20,
   "metadata": {},
   "outputs": [],
   "source": [
    "ot = random.choice([*TR['moderate'].groupby('track_idx')])[1]"
   ]
  },
  {
   "cell_type": "markdown",
   "metadata": {},
   "source": [
    "It is essentially a sub-class of pandas.DataFrame"
   ]
  },
  {
   "cell_type": "code",
   "execution_count": 21,
   "metadata": {},
   "outputs": [
    {
     "data": {
      "text/html": [
       "<div>\n",
       "<style scoped>\n",
       "    .dataframe tbody tr th:only-of-type {\n",
       "        vertical-align: middle;\n",
       "    }\n",
       "\n",
       "    .dataframe tbody tr th {\n",
       "        vertical-align: top;\n",
       "    }\n",
       "\n",
       "    .dataframe thead th {\n",
       "        text-align: right;\n",
       "    }\n",
       "</style>\n",
       "<table border=\"1\" class=\"dataframe\">\n",
       "  <thead>\n",
       "    <tr style=\"text-align: right;\">\n",
       "      <th></th>\n",
       "      <th></th>\n",
       "      <th>lon</th>\n",
       "      <th>lat</th>\n",
       "      <th>vo</th>\n",
       "      <th>time</th>\n",
       "      <th>area</th>\n",
       "      <th>vortex_type</th>\n",
       "      <th>cat</th>\n",
       "    </tr>\n",
       "    <tr>\n",
       "      <th>track_idx</th>\n",
       "      <th>row_idx</th>\n",
       "      <th></th>\n",
       "      <th></th>\n",
       "      <th></th>\n",
       "      <th></th>\n",
       "      <th></th>\n",
       "      <th></th>\n",
       "      <th></th>\n",
       "    </tr>\n",
       "  </thead>\n",
       "  <tbody>\n",
       "    <tr>\n",
       "      <th rowspan=\"8\" valign=\"top\">346</th>\n",
       "      <th>0</th>\n",
       "      <td>24.3</td>\n",
       "      <td>71.4</td>\n",
       "      <td>0.000210</td>\n",
       "      <td>2011-01-18 09:00:00</td>\n",
       "      <td>1422.87744</td>\n",
       "      <td>0</td>\n",
       "      <td>2</td>\n",
       "    </tr>\n",
       "    <tr>\n",
       "      <th>1</th>\n",
       "      <td>24.9</td>\n",
       "      <td>71.4</td>\n",
       "      <td>0.000248</td>\n",
       "      <td>2011-01-18 10:00:00</td>\n",
       "      <td>11755.83203</td>\n",
       "      <td>0</td>\n",
       "      <td>2</td>\n",
       "    </tr>\n",
       "    <tr>\n",
       "      <th>2</th>\n",
       "      <td>23.4</td>\n",
       "      <td>72.0</td>\n",
       "      <td>0.000272</td>\n",
       "      <td>2011-01-18 11:00:00</td>\n",
       "      <td>18691.89258</td>\n",
       "      <td>0</td>\n",
       "      <td>2</td>\n",
       "    </tr>\n",
       "    <tr>\n",
       "      <th>3</th>\n",
       "      <td>24.9</td>\n",
       "      <td>71.7</td>\n",
       "      <td>0.000295</td>\n",
       "      <td>2011-01-18 12:00:00</td>\n",
       "      <td>21820.01953</td>\n",
       "      <td>0</td>\n",
       "      <td>2</td>\n",
       "    </tr>\n",
       "    <tr>\n",
       "      <th>4</th>\n",
       "      <td>25.5</td>\n",
       "      <td>71.7</td>\n",
       "      <td>0.000308</td>\n",
       "      <td>2011-01-18 13:00:00</td>\n",
       "      <td>22992.21289</td>\n",
       "      <td>0</td>\n",
       "      <td>2</td>\n",
       "    </tr>\n",
       "    <tr>\n",
       "      <th>5</th>\n",
       "      <td>27.3</td>\n",
       "      <td>71.4</td>\n",
       "      <td>0.000327</td>\n",
       "      <td>2011-01-18 14:00:00</td>\n",
       "      <td>24073.78125</td>\n",
       "      <td>0</td>\n",
       "      <td>2</td>\n",
       "    </tr>\n",
       "    <tr>\n",
       "      <th>6</th>\n",
       "      <td>27.6</td>\n",
       "      <td>71.4</td>\n",
       "      <td>0.000330</td>\n",
       "      <td>2011-01-18 15:00:00</td>\n",
       "      <td>26367.34961</td>\n",
       "      <td>0</td>\n",
       "      <td>2</td>\n",
       "    </tr>\n",
       "    <tr>\n",
       "      <th>7</th>\n",
       "      <td>28.2</td>\n",
       "      <td>71.4</td>\n",
       "      <td>0.000304</td>\n",
       "      <td>2011-01-18 16:00:00</td>\n",
       "      <td>19747.59375</td>\n",
       "      <td>0</td>\n",
       "      <td>2</td>\n",
       "    </tr>\n",
       "  </tbody>\n",
       "</table>\n",
       "</div>"
      ],
      "text/plain": [
       "                    lon   lat        vo                time         area  \\\n",
       "track_idx row_idx                                                          \n",
       "346       0        24.3  71.4  0.000210 2011-01-18 09:00:00   1422.87744   \n",
       "          1        24.9  71.4  0.000248 2011-01-18 10:00:00  11755.83203   \n",
       "          2        23.4  72.0  0.000272 2011-01-18 11:00:00  18691.89258   \n",
       "          3        24.9  71.7  0.000295 2011-01-18 12:00:00  21820.01953   \n",
       "          4        25.5  71.7  0.000308 2011-01-18 13:00:00  22992.21289   \n",
       "          5        27.3  71.4  0.000327 2011-01-18 14:00:00  24073.78125   \n",
       "          6        27.6  71.4  0.000330 2011-01-18 15:00:00  26367.34961   \n",
       "          7        28.2  71.4  0.000304 2011-01-18 16:00:00  19747.59375   \n",
       "\n",
       "                   vortex_type  cat  \n",
       "track_idx row_idx                    \n",
       "346       0                  0    2  \n",
       "          1                  0    2  \n",
       "          2                  0    2  \n",
       "          3                  0    2  \n",
       "          4                  0    2  \n",
       "          5                  0    2  \n",
       "          6                  0    2  \n",
       "          7                  0    2  "
      ]
     },
     "execution_count": 21,
     "metadata": {},
     "output_type": "execute_result"
    }
   ],
   "source": [
    "ot"
   ]
  },
  {
   "cell_type": "code",
   "execution_count": 22,
   "metadata": {},
   "outputs": [
    {
     "data": {
      "text/plain": [
       "octant.core.OctantTrack"
      ]
     },
     "execution_count": 22,
     "metadata": {},
     "output_type": "execute_result"
    }
   ],
   "source": [
    "type(ot)"
   ]
  },
  {
   "cell_type": "markdown",
   "metadata": {},
   "source": [
    "It has a few useful properties"
   ]
  },
  {
   "cell_type": "code",
   "execution_count": 23,
   "metadata": {},
   "outputs": [
    {
     "data": {
      "text/plain": [
       "7.0"
      ]
     },
     "execution_count": 23,
     "metadata": {},
     "output_type": "execute_result"
    }
   ],
   "source": [
    "ot.lifetime_h"
   ]
  },
  {
   "cell_type": "code",
   "execution_count": 24,
   "metadata": {},
   "outputs": [
    {
     "data": {
      "text/plain": [
       "292.2882191179238"
      ]
     },
     "execution_count": 24,
     "metadata": {},
     "output_type": "execute_result"
    }
   ],
   "source": [
    "ot.total_dist_km"
   ]
  },
  {
   "cell_type": "markdown",
   "metadata": {},
   "source": [
    "including maximum and mean vorticity in $ s^{-1}$:"
   ]
  },
  {
   "cell_type": "code",
   "execution_count": 25,
   "metadata": {},
   "outputs": [
    {
     "data": {
      "text/plain": [
       "(0.00033004000000000003, 0.00028679125)"
      ]
     },
     "execution_count": 25,
     "metadata": {},
     "output_type": "execute_result"
    }
   ],
   "source": [
    "ot.max_vort, ot.mean_vort"
   ]
  },
  {
   "cell_type": "code",
   "execution_count": 26,
   "metadata": {},
   "outputs": [
    {
     "data": {
      "text/plain": [
       "138.29617154948116"
      ]
     },
     "execution_count": 26,
     "metadata": {},
     "output_type": "execute_result"
    }
   ],
   "source": [
    "ot.gen_lys_dist_km"
   ]
  },
  {
   "cell_type": "code",
   "execution_count": 27,
   "metadata": {},
   "outputs": [
    {
     "data": {
      "text/plain": [
       "41.75545987398912"
      ]
     },
     "execution_count": 27,
     "metadata": {},
     "output_type": "execute_result"
    }
   ],
   "source": [
    "ot.average_speed"
   ]
  },
  {
   "cell_type": "code",
   "execution_count": 28,
   "metadata": {},
   "outputs": [
    {
     "data": {
      "text/plain": [
       "array([[24.3, 71.4],\n",
       "       [24.9, 71.4],\n",
       "       [23.4, 72. ],\n",
       "       [24.9, 71.7],\n",
       "       [25.5, 71.7],\n",
       "       [27.3, 71.4],\n",
       "       [27.6, 71.4],\n",
       "       [28.2, 71.4]])"
      ]
     },
     "execution_count": 28,
     "metadata": {},
     "output_type": "execute_result"
    }
   ],
   "source": [
    "ot.lonlat"
   ]
  },
  {
   "cell_type": "markdown",
   "metadata": {},
   "source": [
    "## octant's utilities"
   ]
  },
  {
   "cell_type": "code",
   "execution_count": 29,
   "metadata": {},
   "outputs": [],
   "source": [
    "from octant.utils import great_circle"
   ]
  },
  {
   "cell_type": "code",
   "execution_count": 30,
   "metadata": {},
   "outputs": [
    {
     "data": {
      "text/plain": [
       "222826.50759451024"
      ]
     },
     "execution_count": 30,
     "metadata": {},
     "output_type": "execute_result"
    }
   ],
   "source": [
    "great_circle(lon1=9.6, lon2=10.2, lat1=76.9, lat2=78.9)"
   ]
  }
 ],
 "metadata": {
  "kernelspec": {
   "display_name": "Python [conda env:test_env]",
   "language": "python",
   "name": "conda-env-test_env-py"
  },
  "language_info": {
   "codemirror_mode": {
    "name": "ipython",
    "version": 3
   },
   "file_extension": ".py",
   "mimetype": "text/x-python",
   "name": "python",
   "nbconvert_exporter": "python",
   "pygments_lexer": "ipython3",
   "version": "3.6.7"
  }
 },
 "nbformat": 4,
 "nbformat_minor": 2
}
