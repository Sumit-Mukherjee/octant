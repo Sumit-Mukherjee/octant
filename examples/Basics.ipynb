{
 "cells": [
  {
   "cell_type": "markdown",
   "metadata": {},
   "source": [
    "# Basic functionality of octant package"
   ]
  },
  {
   "cell_type": "markdown",
   "metadata": {},
   "source": [
    "Import the necessary modules"
   ]
  },
  {
   "cell_type": "code",
   "execution_count": 10,
   "metadata": {},
   "outputs": [],
   "source": [
    "from pathlib import Path\n",
    "import matplotlib.pyplot as plt\n",
    "from octant.core import TrackRun, CycloneTrack, HOUR"
   ]
  },
  {
   "cell_type": "markdown",
   "metadata": {},
   "source": [
    "Define the common data directory"
   ]
  },
  {
   "cell_type": "code",
   "execution_count": 11,
   "metadata": {},
   "outputs": [],
   "source": [
    "sample_dir = Path('.') / 'sample_data'"
   ]
  },
  {
   "cell_type": "markdown",
   "metadata": {},
   "source": [
    "Data are usually organised in hierarchical directory structure. Here, the relevant parameters are defined."
   ]
  },
  {
   "cell_type": "code",
   "execution_count": 15,
   "metadata": {},
   "outputs": [],
   "source": [
    "dataset = 'era5'\n",
    "period = 'test'\n",
    "run_id = 0"
   ]
  },
  {
   "cell_type": "markdown",
   "metadata": {},
   "source": [
    "Construct the full path"
   ]
  },
  {
   "cell_type": "code",
   "execution_count": 16,
   "metadata": {},
   "outputs": [],
   "source": [
    "track_res_dir = sample_dir / dataset / f'run{run_id:03d}' / period"
   ]
  },
  {
   "cell_type": "markdown",
   "metadata": {},
   "source": [
    "## Load the data"
   ]
  },
  {
   "cell_type": "code",
   "execution_count": 17,
   "metadata": {},
   "outputs": [],
   "source": [
    "TR = TrackRun(track_res_dir)"
   ]
  },
  {
   "cell_type": "code",
   "execution_count": 18,
   "metadata": {},
   "outputs": [
    {
     "data": {
      "text/plain": [
       "octant.core.TrackRun"
      ]
     },
     "execution_count": 18,
     "metadata": {},
     "output_type": "execute_result"
    }
   ],
   "source": [
    "type(TR)"
   ]
  },
  {
   "cell_type": "code",
   "execution_count": 19,
   "metadata": {},
   "outputs": [
    {
     "data": {
      "text/plain": [
       "671"
      ]
     },
     "execution_count": 19,
     "metadata": {},
     "output_type": "execute_result"
    }
   ],
   "source": [
    "len(TR)"
   ]
  },
  {
   "cell_type": "code",
   "execution_count": 20,
   "metadata": {},
   "outputs": [
    {
     "data": {
      "text/plain": [
       "1.0"
      ]
     },
     "execution_count": 20,
     "metadata": {},
     "output_type": "execute_result"
    }
   ],
   "source": [
    "TR.tstep_h"
   ]
  },
  {
   "cell_type": "markdown",
   "metadata": {},
   "source": [
    "### Concatenate data from several directories"
   ]
  },
  {
   "cell_type": "code",
   "execution_count": 21,
   "metadata": {},
   "outputs": [],
   "source": [
    "# TR = TrackRun(one_directory)\n",
    "# TR2 = TrackRun(another_directory)\n",
    "# TR.extend(TR2)\n",
    "## or\n",
    "# TR += TrackRun(another_directory)"
   ]
  },
  {
   "cell_type": "markdown",
   "metadata": {},
   "source": [
    "`TrackRun` class can be initialised empty:"
   ]
  },
  {
   "cell_type": "code",
   "execution_count": 22,
   "metadata": {},
   "outputs": [],
   "source": [
    "tr_empty = TrackRun()"
   ]
  },
  {
   "cell_type": "code",
   "execution_count": 23,
   "metadata": {},
   "outputs": [
    {
     "name": "stdout",
     "output_type": "stream",
     "text": [
      "TrackRun(, 0)\n"
     ]
    }
   ],
   "source": [
    "print(tr_empty)"
   ]
  },
  {
   "cell_type": "markdown",
   "metadata": {},
   "source": [
    "## Categorise tracks by different filters"
   ]
  },
  {
   "cell_type": "code",
   "execution_count": 25,
   "metadata": {},
   "outputs": [],
   "source": [
    "import xarray as xr"
   ]
  },
  {
   "cell_type": "code",
   "execution_count": 30,
   "metadata": {},
   "outputs": [],
   "source": [
    "lsm = xr.open_dataarray(sample_dir / dataset / 'lsm.nc')\n",
    "lsm = lsm.squeeze()"
   ]
  },
  {
   "cell_type": "code",
   "execution_count": 31,
   "metadata": {},
   "outputs": [],
   "source": [
    "TR.categorise(lsm=lsm, filt_by_dist=False, filt_by_land=True, filt_by_domain_bounds=True, coast_rad=50)"
   ]
  },
  {
   "cell_type": "code",
   "execution_count": 33,
   "metadata": {},
   "outputs": [
    {
     "data": {
      "text/plain": [
       "(135, 63)"
      ]
     },
     "execution_count": 33,
     "metadata": {},
     "output_type": "execute_result"
    }
   ],
   "source": [
    "len(TR.Subset.good), len(TR.Subset.pmc)"
   ]
  },
  {
   "cell_type": "markdown",
   "metadata": {},
   "source": [
    "## Units of TrackRun"
   ]
  },
  {
   "cell_type": "markdown",
   "metadata": {},
   "source": [
    "Each cyclone track stored in lists of `TrackRun` class as a `CycloneTrack` instance"
   ]
  },
  {
   "cell_type": "code",
   "execution_count": 34,
   "metadata": {},
   "outputs": [],
   "source": [
    "import random"
   ]
  },
  {
   "cell_type": "code",
   "execution_count": 35,
   "metadata": {},
   "outputs": [],
   "source": [
    "ct = random.choice(TR.Subset.pmc)"
   ]
  },
  {
   "cell_type": "code",
   "execution_count": 36,
   "metadata": {},
   "outputs": [
    {
     "data": {
      "text/plain": [
       "CycloneTrack\n",
       "     lon   lat       vo                time         area  vortex_type\n",
       "0  -13.5  65.7  0.20488 2011-01-19 10:00:00   1819.78101            0\n",
       "1  -13.5  65.7  0.22403 2011-01-19 11:00:00   3623.53906            0\n",
       "2  -13.5  65.7  0.22735 2011-01-19 12:00:00   4541.40918            0\n",
       "3  -13.5  66.0  0.24016 2011-01-19 13:00:00   6788.07568            0\n",
       "4  -13.2  66.0  0.26473 2011-01-19 14:00:00   8132.88086            0\n",
       "5  -13.2  66.0  0.27767 2011-01-19 15:00:00   7679.26758            0\n",
       "6  -13.2  66.0  0.27432 2011-01-19 16:00:00   8559.74121            0\n",
       "7  -13.2  66.0  0.25665 2011-01-19 17:00:00   8997.29492            0\n",
       "8  -13.2  66.0  0.25570 2011-01-19 18:00:00   9018.71875            0\n",
       "9  -13.2  66.0  0.26457 2011-01-19 19:00:00  10363.38672            0\n",
       "10 -12.9  65.1  0.26874 2011-01-19 20:00:00  11740.08594            0\n",
       "11 -12.9  66.0  0.24768 2011-01-19 21:00:00   9375.74414            0\n",
       "12 -12.3  66.9  0.24082 2011-01-19 22:00:00   8068.48438            0\n",
       "13 -11.7  68.7  0.37836 2011-01-19 23:00:00  46252.47656            0\n",
       "14 -10.2  69.9  0.39064 2011-01-20 00:00:00  45909.85156            0\n",
       "15  -9.6  70.2  0.41863 2011-01-20 01:00:00  49702.62109            0\n",
       "16  -8.7  70.5  0.44024 2011-01-20 02:00:00  47847.47266            0\n",
       "17  -7.5  71.4  0.41275 2011-01-20 03:00:00  42877.56641            0\n",
       "18  -6.6  71.7  0.39984 2011-01-20 04:00:00  42780.42969            1\n",
       "19  -5.4  72.3  0.39774 2011-01-20 05:00:00  43718.64062            0\n",
       "20  -4.2  72.9  0.40365 2011-01-20 06:00:00  44032.87891            0\n",
       "21  -3.0  73.5  0.42763 2011-01-20 07:00:00  42547.26562            0\n",
       "22  -2.1  73.8  0.44731 2011-01-20 08:00:00  41070.68359            0\n",
       "23  -0.9  74.4  0.46094 2011-01-20 09:00:00  41854.71484            0\n",
       "24   0.3  74.7  0.50571 2011-01-20 10:00:00  37378.38281            0\n",
       "25   1.2  75.0  0.48528 2011-01-20 11:00:00  44061.31641            0\n",
       "26   2.7  75.6  0.48475 2011-01-20 12:00:00  39940.06641            0\n",
       "27   3.9  76.2  0.46324 2011-01-20 13:00:00  29852.43945            0\n",
       "28   5.1  76.2  0.43676 2011-01-20 14:00:00  23599.55273            0\n",
       "29   6.6  76.8  0.45588 2011-01-20 15:00:00  30437.24219            0\n",
       "30   8.1  77.4  0.40963 2011-01-20 16:00:00  26396.16797            0\n",
       "31   9.9  78.0  0.41820 2011-01-20 17:00:00  20682.32227            0\n",
       "32   9.6  78.9  0.43220 2011-01-20 18:00:00  22261.33594            0\n",
       "33  10.2  78.9  0.37474 2011-01-20 19:00:00   9463.82617            0"
      ]
     },
     "execution_count": 36,
     "metadata": {},
     "output_type": "execute_result"
    }
   ],
   "source": [
    "ct"
   ]
  },
  {
   "cell_type": "code",
   "execution_count": 37,
   "metadata": {},
   "outputs": [
    {
     "data": {
      "text/plain": [
       "octant.core.CycloneTrack"
      ]
     },
     "execution_count": 37,
     "metadata": {},
     "output_type": "execute_result"
    }
   ],
   "source": [
    "type(ct)"
   ]
  },
  {
   "cell_type": "markdown",
   "metadata": {},
   "source": [
    "It is essentially a class built around a `pandas.DataFrame`, which is accessible as a `df` attribute:"
   ]
  },
  {
   "cell_type": "code",
   "execution_count": 47,
   "metadata": {},
   "outputs": [
    {
     "data": {
      "text/html": [
       "<div>\n",
       "<style scoped>\n",
       "    .dataframe tbody tr th:only-of-type {\n",
       "        vertical-align: middle;\n",
       "    }\n",
       "\n",
       "    .dataframe tbody tr th {\n",
       "        vertical-align: top;\n",
       "    }\n",
       "\n",
       "    .dataframe thead th {\n",
       "        text-align: right;\n",
       "    }\n",
       "</style>\n",
       "<table border=\"1\" class=\"dataframe\">\n",
       "  <thead>\n",
       "    <tr style=\"text-align: right;\">\n",
       "      <th></th>\n",
       "      <th>lon</th>\n",
       "      <th>lat</th>\n",
       "      <th>vo</th>\n",
       "      <th>time</th>\n",
       "      <th>area</th>\n",
       "      <th>vortex_type</th>\n",
       "    </tr>\n",
       "  </thead>\n",
       "  <tbody>\n",
       "    <tr>\n",
       "      <th>0</th>\n",
       "      <td>-13.5</td>\n",
       "      <td>65.7</td>\n",
       "      <td>0.20488</td>\n",
       "      <td>2011-01-19 10:00:00</td>\n",
       "      <td>1819.78101</td>\n",
       "      <td>0</td>\n",
       "    </tr>\n",
       "    <tr>\n",
       "      <th>1</th>\n",
       "      <td>-13.5</td>\n",
       "      <td>65.7</td>\n",
       "      <td>0.22403</td>\n",
       "      <td>2011-01-19 11:00:00</td>\n",
       "      <td>3623.53906</td>\n",
       "      <td>0</td>\n",
       "    </tr>\n",
       "    <tr>\n",
       "      <th>2</th>\n",
       "      <td>-13.5</td>\n",
       "      <td>65.7</td>\n",
       "      <td>0.22735</td>\n",
       "      <td>2011-01-19 12:00:00</td>\n",
       "      <td>4541.40918</td>\n",
       "      <td>0</td>\n",
       "    </tr>\n",
       "    <tr>\n",
       "      <th>3</th>\n",
       "      <td>-13.5</td>\n",
       "      <td>66.0</td>\n",
       "      <td>0.24016</td>\n",
       "      <td>2011-01-19 13:00:00</td>\n",
       "      <td>6788.07568</td>\n",
       "      <td>0</td>\n",
       "    </tr>\n",
       "    <tr>\n",
       "      <th>4</th>\n",
       "      <td>-13.2</td>\n",
       "      <td>66.0</td>\n",
       "      <td>0.26473</td>\n",
       "      <td>2011-01-19 14:00:00</td>\n",
       "      <td>8132.88086</td>\n",
       "      <td>0</td>\n",
       "    </tr>\n",
       "    <tr>\n",
       "      <th>5</th>\n",
       "      <td>-13.2</td>\n",
       "      <td>66.0</td>\n",
       "      <td>0.27767</td>\n",
       "      <td>2011-01-19 15:00:00</td>\n",
       "      <td>7679.26758</td>\n",
       "      <td>0</td>\n",
       "    </tr>\n",
       "    <tr>\n",
       "      <th>6</th>\n",
       "      <td>-13.2</td>\n",
       "      <td>66.0</td>\n",
       "      <td>0.27432</td>\n",
       "      <td>2011-01-19 16:00:00</td>\n",
       "      <td>8559.74121</td>\n",
       "      <td>0</td>\n",
       "    </tr>\n",
       "    <tr>\n",
       "      <th>7</th>\n",
       "      <td>-13.2</td>\n",
       "      <td>66.0</td>\n",
       "      <td>0.25665</td>\n",
       "      <td>2011-01-19 17:00:00</td>\n",
       "      <td>8997.29492</td>\n",
       "      <td>0</td>\n",
       "    </tr>\n",
       "    <tr>\n",
       "      <th>8</th>\n",
       "      <td>-13.2</td>\n",
       "      <td>66.0</td>\n",
       "      <td>0.25570</td>\n",
       "      <td>2011-01-19 18:00:00</td>\n",
       "      <td>9018.71875</td>\n",
       "      <td>0</td>\n",
       "    </tr>\n",
       "    <tr>\n",
       "      <th>9</th>\n",
       "      <td>-13.2</td>\n",
       "      <td>66.0</td>\n",
       "      <td>0.26457</td>\n",
       "      <td>2011-01-19 19:00:00</td>\n",
       "      <td>10363.38672</td>\n",
       "      <td>0</td>\n",
       "    </tr>\n",
       "    <tr>\n",
       "      <th>10</th>\n",
       "      <td>-12.9</td>\n",
       "      <td>65.1</td>\n",
       "      <td>0.26874</td>\n",
       "      <td>2011-01-19 20:00:00</td>\n",
       "      <td>11740.08594</td>\n",
       "      <td>0</td>\n",
       "    </tr>\n",
       "    <tr>\n",
       "      <th>11</th>\n",
       "      <td>-12.9</td>\n",
       "      <td>66.0</td>\n",
       "      <td>0.24768</td>\n",
       "      <td>2011-01-19 21:00:00</td>\n",
       "      <td>9375.74414</td>\n",
       "      <td>0</td>\n",
       "    </tr>\n",
       "    <tr>\n",
       "      <th>12</th>\n",
       "      <td>-12.3</td>\n",
       "      <td>66.9</td>\n",
       "      <td>0.24082</td>\n",
       "      <td>2011-01-19 22:00:00</td>\n",
       "      <td>8068.48438</td>\n",
       "      <td>0</td>\n",
       "    </tr>\n",
       "    <tr>\n",
       "      <th>13</th>\n",
       "      <td>-11.7</td>\n",
       "      <td>68.7</td>\n",
       "      <td>0.37836</td>\n",
       "      <td>2011-01-19 23:00:00</td>\n",
       "      <td>46252.47656</td>\n",
       "      <td>0</td>\n",
       "    </tr>\n",
       "    <tr>\n",
       "      <th>14</th>\n",
       "      <td>-10.2</td>\n",
       "      <td>69.9</td>\n",
       "      <td>0.39064</td>\n",
       "      <td>2011-01-20 00:00:00</td>\n",
       "      <td>45909.85156</td>\n",
       "      <td>0</td>\n",
       "    </tr>\n",
       "    <tr>\n",
       "      <th>15</th>\n",
       "      <td>-9.6</td>\n",
       "      <td>70.2</td>\n",
       "      <td>0.41863</td>\n",
       "      <td>2011-01-20 01:00:00</td>\n",
       "      <td>49702.62109</td>\n",
       "      <td>0</td>\n",
       "    </tr>\n",
       "    <tr>\n",
       "      <th>16</th>\n",
       "      <td>-8.7</td>\n",
       "      <td>70.5</td>\n",
       "      <td>0.44024</td>\n",
       "      <td>2011-01-20 02:00:00</td>\n",
       "      <td>47847.47266</td>\n",
       "      <td>0</td>\n",
       "    </tr>\n",
       "    <tr>\n",
       "      <th>17</th>\n",
       "      <td>-7.5</td>\n",
       "      <td>71.4</td>\n",
       "      <td>0.41275</td>\n",
       "      <td>2011-01-20 03:00:00</td>\n",
       "      <td>42877.56641</td>\n",
       "      <td>0</td>\n",
       "    </tr>\n",
       "    <tr>\n",
       "      <th>18</th>\n",
       "      <td>-6.6</td>\n",
       "      <td>71.7</td>\n",
       "      <td>0.39984</td>\n",
       "      <td>2011-01-20 04:00:00</td>\n",
       "      <td>42780.42969</td>\n",
       "      <td>1</td>\n",
       "    </tr>\n",
       "    <tr>\n",
       "      <th>19</th>\n",
       "      <td>-5.4</td>\n",
       "      <td>72.3</td>\n",
       "      <td>0.39774</td>\n",
       "      <td>2011-01-20 05:00:00</td>\n",
       "      <td>43718.64062</td>\n",
       "      <td>0</td>\n",
       "    </tr>\n",
       "    <tr>\n",
       "      <th>20</th>\n",
       "      <td>-4.2</td>\n",
       "      <td>72.9</td>\n",
       "      <td>0.40365</td>\n",
       "      <td>2011-01-20 06:00:00</td>\n",
       "      <td>44032.87891</td>\n",
       "      <td>0</td>\n",
       "    </tr>\n",
       "    <tr>\n",
       "      <th>21</th>\n",
       "      <td>-3.0</td>\n",
       "      <td>73.5</td>\n",
       "      <td>0.42763</td>\n",
       "      <td>2011-01-20 07:00:00</td>\n",
       "      <td>42547.26562</td>\n",
       "      <td>0</td>\n",
       "    </tr>\n",
       "    <tr>\n",
       "      <th>22</th>\n",
       "      <td>-2.1</td>\n",
       "      <td>73.8</td>\n",
       "      <td>0.44731</td>\n",
       "      <td>2011-01-20 08:00:00</td>\n",
       "      <td>41070.68359</td>\n",
       "      <td>0</td>\n",
       "    </tr>\n",
       "    <tr>\n",
       "      <th>23</th>\n",
       "      <td>-0.9</td>\n",
       "      <td>74.4</td>\n",
       "      <td>0.46094</td>\n",
       "      <td>2011-01-20 09:00:00</td>\n",
       "      <td>41854.71484</td>\n",
       "      <td>0</td>\n",
       "    </tr>\n",
       "    <tr>\n",
       "      <th>24</th>\n",
       "      <td>0.3</td>\n",
       "      <td>74.7</td>\n",
       "      <td>0.50571</td>\n",
       "      <td>2011-01-20 10:00:00</td>\n",
       "      <td>37378.38281</td>\n",
       "      <td>0</td>\n",
       "    </tr>\n",
       "    <tr>\n",
       "      <th>25</th>\n",
       "      <td>1.2</td>\n",
       "      <td>75.0</td>\n",
       "      <td>0.48528</td>\n",
       "      <td>2011-01-20 11:00:00</td>\n",
       "      <td>44061.31641</td>\n",
       "      <td>0</td>\n",
       "    </tr>\n",
       "    <tr>\n",
       "      <th>26</th>\n",
       "      <td>2.7</td>\n",
       "      <td>75.6</td>\n",
       "      <td>0.48475</td>\n",
       "      <td>2011-01-20 12:00:00</td>\n",
       "      <td>39940.06641</td>\n",
       "      <td>0</td>\n",
       "    </tr>\n",
       "    <tr>\n",
       "      <th>27</th>\n",
       "      <td>3.9</td>\n",
       "      <td>76.2</td>\n",
       "      <td>0.46324</td>\n",
       "      <td>2011-01-20 13:00:00</td>\n",
       "      <td>29852.43945</td>\n",
       "      <td>0</td>\n",
       "    </tr>\n",
       "    <tr>\n",
       "      <th>28</th>\n",
       "      <td>5.1</td>\n",
       "      <td>76.2</td>\n",
       "      <td>0.43676</td>\n",
       "      <td>2011-01-20 14:00:00</td>\n",
       "      <td>23599.55273</td>\n",
       "      <td>0</td>\n",
       "    </tr>\n",
       "    <tr>\n",
       "      <th>29</th>\n",
       "      <td>6.6</td>\n",
       "      <td>76.8</td>\n",
       "      <td>0.45588</td>\n",
       "      <td>2011-01-20 15:00:00</td>\n",
       "      <td>30437.24219</td>\n",
       "      <td>0</td>\n",
       "    </tr>\n",
       "    <tr>\n",
       "      <th>30</th>\n",
       "      <td>8.1</td>\n",
       "      <td>77.4</td>\n",
       "      <td>0.40963</td>\n",
       "      <td>2011-01-20 16:00:00</td>\n",
       "      <td>26396.16797</td>\n",
       "      <td>0</td>\n",
       "    </tr>\n",
       "    <tr>\n",
       "      <th>31</th>\n",
       "      <td>9.9</td>\n",
       "      <td>78.0</td>\n",
       "      <td>0.41820</td>\n",
       "      <td>2011-01-20 17:00:00</td>\n",
       "      <td>20682.32227</td>\n",
       "      <td>0</td>\n",
       "    </tr>\n",
       "    <tr>\n",
       "      <th>32</th>\n",
       "      <td>9.6</td>\n",
       "      <td>78.9</td>\n",
       "      <td>0.43220</td>\n",
       "      <td>2011-01-20 18:00:00</td>\n",
       "      <td>22261.33594</td>\n",
       "      <td>0</td>\n",
       "    </tr>\n",
       "    <tr>\n",
       "      <th>33</th>\n",
       "      <td>10.2</td>\n",
       "      <td>78.9</td>\n",
       "      <td>0.37474</td>\n",
       "      <td>2011-01-20 19:00:00</td>\n",
       "      <td>9463.82617</td>\n",
       "      <td>0</td>\n",
       "    </tr>\n",
       "  </tbody>\n",
       "</table>\n",
       "</div>"
      ],
      "text/plain": [
       "     lon   lat       vo                time         area  vortex_type\n",
       "0  -13.5  65.7  0.20488 2011-01-19 10:00:00   1819.78101            0\n",
       "1  -13.5  65.7  0.22403 2011-01-19 11:00:00   3623.53906            0\n",
       "2  -13.5  65.7  0.22735 2011-01-19 12:00:00   4541.40918            0\n",
       "3  -13.5  66.0  0.24016 2011-01-19 13:00:00   6788.07568            0\n",
       "4  -13.2  66.0  0.26473 2011-01-19 14:00:00   8132.88086            0\n",
       "5  -13.2  66.0  0.27767 2011-01-19 15:00:00   7679.26758            0\n",
       "6  -13.2  66.0  0.27432 2011-01-19 16:00:00   8559.74121            0\n",
       "7  -13.2  66.0  0.25665 2011-01-19 17:00:00   8997.29492            0\n",
       "8  -13.2  66.0  0.25570 2011-01-19 18:00:00   9018.71875            0\n",
       "9  -13.2  66.0  0.26457 2011-01-19 19:00:00  10363.38672            0\n",
       "10 -12.9  65.1  0.26874 2011-01-19 20:00:00  11740.08594            0\n",
       "11 -12.9  66.0  0.24768 2011-01-19 21:00:00   9375.74414            0\n",
       "12 -12.3  66.9  0.24082 2011-01-19 22:00:00   8068.48438            0\n",
       "13 -11.7  68.7  0.37836 2011-01-19 23:00:00  46252.47656            0\n",
       "14 -10.2  69.9  0.39064 2011-01-20 00:00:00  45909.85156            0\n",
       "15  -9.6  70.2  0.41863 2011-01-20 01:00:00  49702.62109            0\n",
       "16  -8.7  70.5  0.44024 2011-01-20 02:00:00  47847.47266            0\n",
       "17  -7.5  71.4  0.41275 2011-01-20 03:00:00  42877.56641            0\n",
       "18  -6.6  71.7  0.39984 2011-01-20 04:00:00  42780.42969            1\n",
       "19  -5.4  72.3  0.39774 2011-01-20 05:00:00  43718.64062            0\n",
       "20  -4.2  72.9  0.40365 2011-01-20 06:00:00  44032.87891            0\n",
       "21  -3.0  73.5  0.42763 2011-01-20 07:00:00  42547.26562            0\n",
       "22  -2.1  73.8  0.44731 2011-01-20 08:00:00  41070.68359            0\n",
       "23  -0.9  74.4  0.46094 2011-01-20 09:00:00  41854.71484            0\n",
       "24   0.3  74.7  0.50571 2011-01-20 10:00:00  37378.38281            0\n",
       "25   1.2  75.0  0.48528 2011-01-20 11:00:00  44061.31641            0\n",
       "26   2.7  75.6  0.48475 2011-01-20 12:00:00  39940.06641            0\n",
       "27   3.9  76.2  0.46324 2011-01-20 13:00:00  29852.43945            0\n",
       "28   5.1  76.2  0.43676 2011-01-20 14:00:00  23599.55273            0\n",
       "29   6.6  76.8  0.45588 2011-01-20 15:00:00  30437.24219            0\n",
       "30   8.1  77.4  0.40963 2011-01-20 16:00:00  26396.16797            0\n",
       "31   9.9  78.0  0.41820 2011-01-20 17:00:00  20682.32227            0\n",
       "32   9.6  78.9  0.43220 2011-01-20 18:00:00  22261.33594            0\n",
       "33  10.2  78.9  0.37474 2011-01-20 19:00:00   9463.82617            0"
      ]
     },
     "execution_count": 47,
     "metadata": {},
     "output_type": "execute_result"
    }
   ],
   "source": [
    "ct.df"
   ]
  },
  {
   "cell_type": "markdown",
   "metadata": {},
   "source": [
    "But it has a few useful properties on top"
   ]
  },
  {
   "cell_type": "code",
   "execution_count": 38,
   "metadata": {},
   "outputs": [
    {
     "data": {
      "text/plain": [
       "33.0"
      ]
     },
     "execution_count": 38,
     "metadata": {},
     "output_type": "execute_result"
    }
   ],
   "source": [
    "ct.lifetime_h"
   ]
  },
  {
   "cell_type": "code",
   "execution_count": 39,
   "metadata": {},
   "outputs": [
    {
     "data": {
      "text/plain": [
       "1917.1802407551986"
      ]
     },
     "execution_count": 39,
     "metadata": {},
     "output_type": "execute_result"
    }
   ],
   "source": [
    "ct.total_dist_km"
   ]
  },
  {
   "cell_type": "markdown",
   "metadata": {},
   "source": [
    "E.g., maximum vorticity in $ 10^{-3} s^{-1}$"
   ]
  },
  {
   "cell_type": "code",
   "execution_count": 40,
   "metadata": {},
   "outputs": [
    {
     "data": {
      "text/plain": [
       "0.50571"
      ]
     },
     "execution_count": 40,
     "metadata": {},
     "output_type": "execute_result"
    }
   ],
   "source": [
    "ct.max_vort"
   ]
  },
  {
   "cell_type": "code",
   "execution_count": 41,
   "metadata": {},
   "outputs": [
    {
     "data": {
      "text/plain": [
       "0.36151235294117645"
      ]
     },
     "execution_count": 41,
     "metadata": {},
     "output_type": "execute_result"
    }
   ],
   "source": [
    "ct.mean_vort"
   ]
  },
  {
   "cell_type": "code",
   "execution_count": 42,
   "metadata": {},
   "outputs": [
    {
     "data": {
      "text/plain": [
       "1643.8446919324304"
      ]
     },
     "execution_count": 42,
     "metadata": {},
     "output_type": "execute_result"
    }
   ],
   "source": [
    "ct.gen_lys_dist_km"
   ]
  },
  {
   "cell_type": "code",
   "execution_count": 43,
   "metadata": {},
   "outputs": [
    {
     "data": {
      "text/plain": [
       "58.09637093197571"
      ]
     },
     "execution_count": 43,
     "metadata": {},
     "output_type": "execute_result"
    }
   ],
   "source": [
    "ct.average_speed"
   ]
  },
  {
   "cell_type": "code",
   "execution_count": 44,
   "metadata": {},
   "outputs": [
    {
     "data": {
      "text/plain": [
       "array([[-13.5,  65.7],\n",
       "       [-13.5,  65.7],\n",
       "       [-13.5,  65.7],\n",
       "       [-13.5,  66. ],\n",
       "       [-13.2,  66. ],\n",
       "       [-13.2,  66. ],\n",
       "       [-13.2,  66. ],\n",
       "       [-13.2,  66. ],\n",
       "       [-13.2,  66. ],\n",
       "       [-13.2,  66. ],\n",
       "       [-12.9,  65.1],\n",
       "       [-12.9,  66. ],\n",
       "       [-12.3,  66.9],\n",
       "       [-11.7,  68.7],\n",
       "       [-10.2,  69.9],\n",
       "       [ -9.6,  70.2],\n",
       "       [ -8.7,  70.5],\n",
       "       [ -7.5,  71.4],\n",
       "       [ -6.6,  71.7],\n",
       "       [ -5.4,  72.3],\n",
       "       [ -4.2,  72.9],\n",
       "       [ -3. ,  73.5],\n",
       "       [ -2.1,  73.8],\n",
       "       [ -0.9,  74.4],\n",
       "       [  0.3,  74.7],\n",
       "       [  1.2,  75. ],\n",
       "       [  2.7,  75.6],\n",
       "       [  3.9,  76.2],\n",
       "       [  5.1,  76.2],\n",
       "       [  6.6,  76.8],\n",
       "       [  8.1,  77.4],\n",
       "       [  9.9,  78. ],\n",
       "       [  9.6,  78.9],\n",
       "       [ 10.2,  78.9]])"
      ]
     },
     "execution_count": 44,
     "metadata": {},
     "output_type": "execute_result"
    }
   ],
   "source": [
    "ct.lonlat"
   ]
  },
  {
   "cell_type": "markdown",
   "metadata": {},
   "source": [
    "## octant's utilities"
   ]
  },
  {
   "cell_type": "code",
   "execution_count": 46,
   "metadata": {},
   "outputs": [],
   "source": [
    "from octant.utils import great_circle"
   ]
  },
  {
   "cell_type": "code",
   "execution_count": 48,
   "metadata": {},
   "outputs": [
    {
     "data": {
      "text/plain": [
       "222826.50759451024"
      ]
     },
     "execution_count": 48,
     "metadata": {},
     "output_type": "execute_result"
    }
   ],
   "source": [
    "great_circle(9.6, 10.2, 76.9, 78.9)"
   ]
  }
 ],
 "metadata": {
  "kernelspec": {
   "display_name": "Python [conda env:octant_devel]",
   "language": "python",
   "name": "conda-env-octant_devel-py"
  },
  "language_info": {
   "codemirror_mode": {
    "name": "ipython",
    "version": 3
   },
   "file_extension": ".py",
   "mimetype": "text/x-python",
   "name": "python",
   "nbconvert_exporter": "python",
   "pygments_lexer": "ipython3",
   "version": "3.6.5"
  }
 },
 "nbformat": 4,
 "nbformat_minor": 2
}
