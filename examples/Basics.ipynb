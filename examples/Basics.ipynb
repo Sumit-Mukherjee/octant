{
 "cells": [
  {
   "cell_type": "markdown",
   "metadata": {},
   "source": [
    "# Basic functionality of octant package"
   ]
  },
  {
   "cell_type": "markdown",
   "metadata": {},
   "source": [
    "Import the necessary modules"
   ]
  },
  {
   "cell_type": "code",
   "execution_count": 1,
   "metadata": {},
   "outputs": [],
   "source": [
    "from pathlib import Path\n",
    "from octant.core import TrackRun, OctantTrack, HOUR"
   ]
  },
  {
   "cell_type": "markdown",
   "metadata": {},
   "source": [
    "Define the common data directory"
   ]
  },
  {
   "cell_type": "code",
   "execution_count": 2,
   "metadata": {},
   "outputs": [],
   "source": [
    "sample_dir = Path('.') / 'sample_data'"
   ]
  },
  {
   "cell_type": "markdown",
   "metadata": {},
   "source": [
    "Data are usually organised in hierarchical directory structure. Here, the relevant parameters are defined."
   ]
  },
  {
   "cell_type": "code",
   "execution_count": 3,
   "metadata": {},
   "outputs": [],
   "source": [
    "dataset = 'era5'\n",
    "period = 'test'\n",
    "run_id = 0"
   ]
  },
  {
   "cell_type": "markdown",
   "metadata": {},
   "source": [
    "Construct the full path"
   ]
  },
  {
   "cell_type": "code",
   "execution_count": 4,
   "metadata": {},
   "outputs": [],
   "source": [
    "track_res_dir = sample_dir / dataset / f'run{run_id:03d}' / period"
   ]
  },
  {
   "cell_type": "markdown",
   "metadata": {},
   "source": [
    "## Load the data"
   ]
  },
  {
   "cell_type": "code",
   "execution_count": 5,
   "metadata": {},
   "outputs": [],
   "source": [
    "TR = TrackRun(track_res_dir)"
   ]
  },
  {
   "cell_type": "code",
   "execution_count": 6,
   "metadata": {},
   "outputs": [
    {
     "name": "stdout",
     "output_type": "stream",
     "text": [
      "<octant.core.TrackRun>\n",
      "[671 tracks]\n",
      "\n",
      "Data columns:\n",
      "lon | lat | vo | time | area | vortex_type | cat\n",
      "\n",
      "Sources:\n",
      "sample_data/era5/run000/test\n"
     ]
    }
   ],
   "source": [
    "print(TR)"
   ]
  },
  {
   "cell_type": "markdown",
   "metadata": {},
   "source": [
    "The `TrackRun` object also has an HTML view available in Jupyter Notebooks"
   ]
  },
  {
   "cell_type": "code",
   "execution_count": 7,
   "metadata": {},
   "outputs": [
    {
     "data": {
      "text/html": [
       "\n",
       "<style>\n",
       "  table.octant {\n",
       "      white-space: pre;\n",
       "      border: 1px solid;\n",
       "      border-color: #9c9c9c;\n",
       "      font-family: monaco, monospace;\n",
       "  }\n",
       "  th.octant {\n",
       "      background: #333333;\n",
       "      color: #e0e0e0;\n",
       "      border-left: 1px solid;\n",
       "      border-color: #9c9c9c;\n",
       "      font-size: 1.05em;\n",
       "      min-width: 50px;\n",
       "      max-width: 125px;\n",
       "  }\n",
       "</style>\n",
       "<table class=\"octant\" id=\"140643152738400\">\n",
       "    <tr class=\"octant\">\n",
       "<th class=\"octant octant-word-cell\" colspan=\"8\">octant.core.TrackRun</th>\n",
       "</tr>\n",
       "    <tr class=\"octant\">\n",
       "<td class=\"octant octant-word-cell\">Number of tracks</td>\n",
       "<td class=\"octant octant-word-cell\" colspan=\"7\">671</td>\n",
       "</tr>\n",
       "<tr class=\"octant\">\n",
       "<td class=\"octant octant-word-cell\">Data columns</td>\n",
       "<td class=\"octant octant-word-cell\">lon</td>\n",
       "<td class=\"octant octant-word-cell\">lat</td>\n",
       "<td class=\"octant octant-word-cell\">vo</td>\n",
       "<td class=\"octant octant-word-cell\">time</td>\n",
       "<td class=\"octant octant-word-cell\">area</td>\n",
       "<td class=\"octant octant-word-cell\">vortex_type</td>\n",
       "<td class=\"octant octant-word-cell\">cat</td>\n",
       "</tr>\n",
       "<tr class=\"octant\">\n",
       "<td class=\"octant octant-word-cell\"                rowspan=\"2\">Sources</td>\n",
       "<tr class=\"octant\">\n",
       "<td class=\"octant octant-word-cell\"                             colspan=\"7\">sample_data/era5/run000/test</td>\n",
       "</tr>\n",
       "</tr>\n",
       "</table>\n",
       "        "
      ],
      "text/plain": [
       "<octant.core.TrackRun> [671 tracks]"
      ]
     },
     "execution_count": 7,
     "metadata": {},
     "output_type": "execute_result"
    }
   ],
   "source": [
    "TR"
   ]
  },
  {
   "cell_type": "code",
   "execution_count": 8,
   "metadata": {},
   "outputs": [
    {
     "data": {
      "text/plain": [
       "octant.core.TrackRun"
      ]
     },
     "execution_count": 8,
     "metadata": {},
     "output_type": "execute_result"
    }
   ],
   "source": [
    "type(TR)"
   ]
  },
  {
   "cell_type": "code",
   "execution_count": 9,
   "metadata": {},
   "outputs": [
    {
     "data": {
      "text/plain": [
       "671"
      ]
     },
     "execution_count": 9,
     "metadata": {},
     "output_type": "execute_result"
    }
   ],
   "source": [
    "len(TR)"
   ]
  },
  {
   "cell_type": "code",
   "execution_count": 10,
   "metadata": {},
   "outputs": [
    {
     "data": {
      "text/plain": [
       "1.0"
      ]
     },
     "execution_count": 10,
     "metadata": {},
     "output_type": "execute_result"
    }
   ],
   "source": [
    "TR.tstep_h"
   ]
  },
  {
   "cell_type": "markdown",
   "metadata": {},
   "source": [
    "### Concatenate data from several directories"
   ]
  },
  {
   "cell_type": "code",
   "execution_count": 11,
   "metadata": {},
   "outputs": [],
   "source": [
    "# TR = TrackRun(one_directory)\n",
    "# TR2 = TrackRun(another_directory)\n",
    "# TR.extend(TR2)\n",
    "## or\n",
    "# TR += TrackRun(another_directory)"
   ]
  },
  {
   "cell_type": "markdown",
   "metadata": {},
   "source": [
    "`TrackRun` class can be initialised empty:"
   ]
  },
  {
   "cell_type": "code",
   "execution_count": 12,
   "metadata": {},
   "outputs": [],
   "source": [
    "tr_empty = TrackRun()"
   ]
  },
  {
   "cell_type": "code",
   "execution_count": 13,
   "metadata": {},
   "outputs": [
    {
     "name": "stdout",
     "output_type": "stream",
     "text": [
      "<octant.core.TrackRun>\n",
      "[0 tracks]\n"
     ]
    }
   ],
   "source": [
    "print(tr_empty)"
   ]
  },
  {
   "cell_type": "markdown",
   "metadata": {},
   "source": [
    "## Categorise tracks by different filters"
   ]
  },
  {
   "cell_type": "code",
   "execution_count": 14,
   "metadata": {},
   "outputs": [],
   "source": [
    "import xarray as xr"
   ]
  },
  {
   "cell_type": "code",
   "execution_count": 15,
   "metadata": {},
   "outputs": [],
   "source": [
    "lsm = xr.open_dataarray(sample_dir / dataset / 'lsm.nc')\n",
    "lsm = lsm.squeeze()  # remove singular time dimension"
   ]
  },
  {
   "cell_type": "code",
   "execution_count": 16,
   "metadata": {},
   "outputs": [],
   "source": [
    "TR.categorise(lsm=lsm, filt_by_dist=False, filt_by_land=True, filt_by_domain_bounds=True, coast_rad=50)"
   ]
  },
  {
   "cell_type": "code",
   "execution_count": 17,
   "metadata": {},
   "outputs": [
    {
     "data": {
      "text/html": [
       "\n",
       "<style>\n",
       "  table.octant {\n",
       "      white-space: pre;\n",
       "      border: 1px solid;\n",
       "      border-color: #9c9c9c;\n",
       "      font-family: monaco, monospace;\n",
       "  }\n",
       "  th.octant {\n",
       "      background: #333333;\n",
       "      color: #e0e0e0;\n",
       "      border-left: 1px solid;\n",
       "      border-color: #9c9c9c;\n",
       "      font-size: 1.05em;\n",
       "      min-width: 50px;\n",
       "      max-width: 125px;\n",
       "  }\n",
       "</style>\n",
       "<table class=\"octant\" id=\"140643152738400\">\n",
       "    <tr class=\"octant\">\n",
       "<th class=\"octant octant-word-cell\" colspan=\"8\">octant.core.TrackRun</th>\n",
       "</tr>\n",
       "    <tr class=\"octant\">\n",
       "<td rowspan=\"5\">Categories</td>\n",
       "<tr class=\"octant\">\n",
       "<td class=\"octant octant-word-cell\"></td><td colspan=\"5\">671</td><td>in total</td>\n",
       "</tr>\n",
       "</tr>\n",
       "<tr class=\"octant\">\n",
       "<td class=\"octant octant-word-cell\">of which</td><td class=\"octant octant-word-cell\"colspan=\"5\">135</td><td class=\"octant octant-word-cell\">basic</td>\n",
       "</tr>\n",
       "<tr class=\"octant\">\n",
       "<td class=\"octant octant-word-cell\">of which</td><td class=\"octant octant-word-cell\"colspan=\"5\">90</td><td class=\"octant octant-word-cell\">moderate</td>\n",
       "</tr>\n",
       "<tr class=\"octant\">\n",
       "<td class=\"octant octant-word-cell\">of which</td><td class=\"octant octant-word-cell\"colspan=\"5\">5</td><td class=\"octant octant-word-cell\">strong</td>\n",
       "</tr>\n",
       "<tr class=\"octant\">\n",
       "<td class=\"octant octant-word-cell\">Data columns</td>\n",
       "<td class=\"octant octant-word-cell\">lon</td>\n",
       "<td class=\"octant octant-word-cell\">lat</td>\n",
       "<td class=\"octant octant-word-cell\">vo</td>\n",
       "<td class=\"octant octant-word-cell\">time</td>\n",
       "<td class=\"octant octant-word-cell\">area</td>\n",
       "<td class=\"octant octant-word-cell\">vortex_type</td>\n",
       "<td class=\"octant octant-word-cell\">cat</td>\n",
       "</tr>\n",
       "<tr class=\"octant\">\n",
       "<td class=\"octant octant-word-cell\"                rowspan=\"2\">Sources</td>\n",
       "<tr class=\"octant\">\n",
       "<td class=\"octant octant-word-cell\"                             colspan=\"7\">sample_data/era5/run000/test</td>\n",
       "</tr>\n",
       "</tr>\n",
       "</table>\n",
       "        "
      ],
      "text/plain": [
       "<octant.core.TrackRun> [671 tracks]"
      ]
     },
     "execution_count": 17,
     "metadata": {},
     "output_type": "execute_result"
    }
   ],
   "source": [
    "TR"
   ]
  },
  {
   "cell_type": "code",
   "execution_count": 18,
   "metadata": {},
   "outputs": [
    {
     "data": {
      "text/plain": [
       "(671, 135, 90)"
      ]
     },
     "execution_count": 18,
     "metadata": {},
     "output_type": "execute_result"
    }
   ],
   "source": [
    "TR.size(), TR.size('basic'), TR.size('moderate')"
   ]
  },
  {
   "cell_type": "markdown",
   "metadata": {},
   "source": [
    "## Units of TrackRun"
   ]
  },
  {
   "cell_type": "code",
   "execution_count": 19,
   "metadata": {},
   "outputs": [],
   "source": [
    "import random"
   ]
  },
  {
   "cell_type": "markdown",
   "metadata": {},
   "source": [
    "Each cyclone track stored in lists of `TrackRun` class as a `OctantTrack` instance"
   ]
  },
  {
   "cell_type": "code",
   "execution_count": 20,
   "metadata": {},
   "outputs": [],
   "source": [
    "ot = random.choice([*TR['moderate'].groupby('track_idx')])[1]"
   ]
  },
  {
   "cell_type": "markdown",
   "metadata": {},
   "source": [
    "It is essentially a sub-class of pandas.DataFrame"
   ]
  },
  {
   "cell_type": "code",
   "execution_count": 21,
   "metadata": {},
   "outputs": [
    {
     "data": {
      "text/html": [
       "<div>\n",
       "<style scoped>\n",
       "    .dataframe tbody tr th:only-of-type {\n",
       "        vertical-align: middle;\n",
       "    }\n",
       "\n",
       "    .dataframe tbody tr th {\n",
       "        vertical-align: top;\n",
       "    }\n",
       "\n",
       "    .dataframe thead th {\n",
       "        text-align: right;\n",
       "    }\n",
       "</style>\n",
       "<table border=\"1\" class=\"dataframe\">\n",
       "  <thead>\n",
       "    <tr style=\"text-align: right;\">\n",
       "      <th></th>\n",
       "      <th></th>\n",
       "      <th>lon</th>\n",
       "      <th>lat</th>\n",
       "      <th>vo</th>\n",
       "      <th>time</th>\n",
       "      <th>area</th>\n",
       "      <th>vortex_type</th>\n",
       "      <th>cat</th>\n",
       "    </tr>\n",
       "    <tr>\n",
       "      <th>track_idx</th>\n",
       "      <th>row_idx</th>\n",
       "      <th></th>\n",
       "      <th></th>\n",
       "      <th></th>\n",
       "      <th></th>\n",
       "      <th></th>\n",
       "      <th></th>\n",
       "      <th></th>\n",
       "    </tr>\n",
       "  </thead>\n",
       "  <tbody>\n",
       "    <tr>\n",
       "      <th rowspan=\"10\" valign=\"top\">621</th>\n",
       "      <th>0</th>\n",
       "      <td>-6.9</td>\n",
       "      <td>68.7</td>\n",
       "      <td>0.000207</td>\n",
       "      <td>2011-01-29 23:00:00</td>\n",
       "      <td>11364.80078</td>\n",
       "      <td>0</td>\n",
       "      <td>2</td>\n",
       "    </tr>\n",
       "    <tr>\n",
       "      <th>1</th>\n",
       "      <td>-6.3</td>\n",
       "      <td>69.0</td>\n",
       "      <td>0.000229</td>\n",
       "      <td>2011-01-30 00:00:00</td>\n",
       "      <td>16856.33398</td>\n",
       "      <td>0</td>\n",
       "      <td>2</td>\n",
       "    </tr>\n",
       "    <tr>\n",
       "      <th>2</th>\n",
       "      <td>-5.1</td>\n",
       "      <td>69.0</td>\n",
       "      <td>0.000241</td>\n",
       "      <td>2011-01-30 01:00:00</td>\n",
       "      <td>21613.01367</td>\n",
       "      <td>0</td>\n",
       "      <td>2</td>\n",
       "    </tr>\n",
       "    <tr>\n",
       "      <th>3</th>\n",
       "      <td>-5.4</td>\n",
       "      <td>69.6</td>\n",
       "      <td>0.000241</td>\n",
       "      <td>2011-01-30 02:00:00</td>\n",
       "      <td>22428.08789</td>\n",
       "      <td>0</td>\n",
       "      <td>2</td>\n",
       "    </tr>\n",
       "    <tr>\n",
       "      <th>4</th>\n",
       "      <td>-3.9</td>\n",
       "      <td>69.6</td>\n",
       "      <td>0.000258</td>\n",
       "      <td>2011-01-30 03:00:00</td>\n",
       "      <td>32098.87305</td>\n",
       "      <td>0</td>\n",
       "      <td>2</td>\n",
       "    </tr>\n",
       "    <tr>\n",
       "      <th>5</th>\n",
       "      <td>-2.4</td>\n",
       "      <td>69.6</td>\n",
       "      <td>0.000279</td>\n",
       "      <td>2011-01-30 04:00:00</td>\n",
       "      <td>44099.26562</td>\n",
       "      <td>0</td>\n",
       "      <td>2</td>\n",
       "    </tr>\n",
       "    <tr>\n",
       "      <th>6</th>\n",
       "      <td>-1.8</td>\n",
       "      <td>69.9</td>\n",
       "      <td>0.000319</td>\n",
       "      <td>2011-01-30 05:00:00</td>\n",
       "      <td>34129.87109</td>\n",
       "      <td>0</td>\n",
       "      <td>2</td>\n",
       "    </tr>\n",
       "    <tr>\n",
       "      <th>7</th>\n",
       "      <td>0.3</td>\n",
       "      <td>69.6</td>\n",
       "      <td>0.000353</td>\n",
       "      <td>2011-01-30 06:00:00</td>\n",
       "      <td>38492.92188</td>\n",
       "      <td>0</td>\n",
       "      <td>2</td>\n",
       "    </tr>\n",
       "    <tr>\n",
       "      <th>8</th>\n",
       "      <td>0.6</td>\n",
       "      <td>69.9</td>\n",
       "      <td>0.000380</td>\n",
       "      <td>2011-01-30 07:00:00</td>\n",
       "      <td>39705.30859</td>\n",
       "      <td>0</td>\n",
       "      <td>2</td>\n",
       "    </tr>\n",
       "    <tr>\n",
       "      <th>9</th>\n",
       "      <td>-16.2</td>\n",
       "      <td>71.4</td>\n",
       "      <td>0.000717</td>\n",
       "      <td>2011-01-30 08:00:00</td>\n",
       "      <td>135273.28125</td>\n",
       "      <td>2</td>\n",
       "      <td>2</td>\n",
       "    </tr>\n",
       "  </tbody>\n",
       "</table>\n",
       "</div>"
      ],
      "text/plain": [
       "                    lon   lat        vo                time          area  \\\n",
       "track_idx row_idx                                                           \n",
       "621       0        -6.9  68.7  0.000207 2011-01-29 23:00:00   11364.80078   \n",
       "          1        -6.3  69.0  0.000229 2011-01-30 00:00:00   16856.33398   \n",
       "          2        -5.1  69.0  0.000241 2011-01-30 01:00:00   21613.01367   \n",
       "          3        -5.4  69.6  0.000241 2011-01-30 02:00:00   22428.08789   \n",
       "          4        -3.9  69.6  0.000258 2011-01-30 03:00:00   32098.87305   \n",
       "          5        -2.4  69.6  0.000279 2011-01-30 04:00:00   44099.26562   \n",
       "          6        -1.8  69.9  0.000319 2011-01-30 05:00:00   34129.87109   \n",
       "          7         0.3  69.6  0.000353 2011-01-30 06:00:00   38492.92188   \n",
       "          8         0.6  69.9  0.000380 2011-01-30 07:00:00   39705.30859   \n",
       "          9       -16.2  71.4  0.000717 2011-01-30 08:00:00  135273.28125   \n",
       "\n",
       "                   vortex_type  cat  \n",
       "track_idx row_idx                    \n",
       "621       0                  0    2  \n",
       "          1                  0    2  \n",
       "          2                  0    2  \n",
       "          3                  0    2  \n",
       "          4                  0    2  \n",
       "          5                  0    2  \n",
       "          6                  0    2  \n",
       "          7                  0    2  \n",
       "          8                  0    2  \n",
       "          9                  2    2  "
      ]
     },
     "execution_count": 21,
     "metadata": {},
     "output_type": "execute_result"
    }
   ],
   "source": [
    "ot"
   ]
  },
  {
   "cell_type": "code",
   "execution_count": 22,
   "metadata": {},
   "outputs": [
    {
     "data": {
      "text/plain": [
       "octant.core.OctantTrack"
      ]
     },
     "execution_count": 22,
     "metadata": {},
     "output_type": "execute_result"
    }
   ],
   "source": [
    "type(ot)"
   ]
  },
  {
   "cell_type": "markdown",
   "metadata": {},
   "source": [
    "It has a few useful properties"
   ]
  },
  {
   "cell_type": "code",
   "execution_count": 23,
   "metadata": {},
   "outputs": [
    {
     "data": {
      "text/plain": [
       "9.0"
      ]
     },
     "execution_count": 23,
     "metadata": {},
     "output_type": "execute_result"
    }
   ],
   "source": [
    "ot.lifetime_h"
   ]
  },
  {
   "cell_type": "code",
   "execution_count": 24,
   "metadata": {},
   "outputs": [
    {
     "data": {
      "text/plain": [
       "1074.988375183569"
      ]
     },
     "execution_count": 24,
     "metadata": {},
     "output_type": "execute_result"
    }
   ],
   "source": [
    "ot.total_dist_km"
   ]
  },
  {
   "cell_type": "markdown",
   "metadata": {},
   "source": [
    "including maximum and mean vorticity in $ s^{-1}$:"
   ]
  },
  {
   "cell_type": "code",
   "execution_count": 25,
   "metadata": {},
   "outputs": [
    {
     "data": {
      "text/plain": [
       "(0.00071686, 0.000322378)"
      ]
     },
     "execution_count": 25,
     "metadata": {},
     "output_type": "execute_result"
    }
   ],
   "source": [
    "ot.max_vort, ot.mean_vort"
   ]
  },
  {
   "cell_type": "code",
   "execution_count": 26,
   "metadata": {},
   "outputs": [
    {
     "data": {
      "text/plain": [
       "462.4324882120768"
      ]
     },
     "execution_count": 26,
     "metadata": {},
     "output_type": "execute_result"
    }
   ],
   "source": [
    "ot.gen_lys_dist_km"
   ]
  },
  {
   "cell_type": "code",
   "execution_count": 27,
   "metadata": {},
   "outputs": [
    {
     "data": {
      "text/plain": [
       "119.44315279817432"
      ]
     },
     "execution_count": 27,
     "metadata": {},
     "output_type": "execute_result"
    }
   ],
   "source": [
    "ot.average_speed"
   ]
  },
  {
   "cell_type": "code",
   "execution_count": 28,
   "metadata": {},
   "outputs": [
    {
     "data": {
      "text/plain": [
       "array([[ -6.9,  68.7],\n",
       "       [ -6.3,  69. ],\n",
       "       [ -5.1,  69. ],\n",
       "       [ -5.4,  69.6],\n",
       "       [ -3.9,  69.6],\n",
       "       [ -2.4,  69.6],\n",
       "       [ -1.8,  69.9],\n",
       "       [  0.3,  69.6],\n",
       "       [  0.6,  69.9],\n",
       "       [-16.2,  71.4]])"
      ]
     },
     "execution_count": 28,
     "metadata": {},
     "output_type": "execute_result"
    }
   ],
   "source": [
    "ot.lonlat"
   ]
  },
  {
   "cell_type": "markdown",
   "metadata": {},
   "source": [
    "## octant's utilities"
   ]
  },
  {
   "cell_type": "code",
   "execution_count": 29,
   "metadata": {},
   "outputs": [],
   "source": [
    "from octant.utils import great_circle"
   ]
  },
  {
   "cell_type": "code",
   "execution_count": 30,
   "metadata": {},
   "outputs": [
    {
     "data": {
      "text/plain": [
       "222826.50759451024"
      ]
     },
     "execution_count": 30,
     "metadata": {},
     "output_type": "execute_result"
    }
   ],
   "source": [
    "great_circle(lon1=9.6, lon2=10.2, lat1=76.9, lat2=78.9)"
   ]
  }
 ],
 "metadata": {
  "kernelspec": {
   "display_name": "Python [conda env:octant-dev]",
   "language": "python",
   "name": "conda-env-octant-dev-py"
  },
  "language_info": {
   "codemirror_mode": {
    "name": "ipython",
    "version": 3
   },
   "file_extension": ".py",
   "mimetype": "text/x-python",
   "name": "python",
   "nbconvert_exporter": "python",
   "pygments_lexer": "ipython3",
   "version": "3.6.6"
  }
 },
 "nbformat": 4,
 "nbformat_minor": 2
}
