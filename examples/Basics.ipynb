{
 "cells": [
  {
   "cell_type": "markdown",
   "metadata": {},
   "source": [
    "# Basic functionality of octant package"
   ]
  },
  {
   "cell_type": "markdown",
   "metadata": {},
   "source": [
    "Import the necessary modules"
   ]
  },
  {
   "cell_type": "code",
   "execution_count": 1,
   "metadata": {},
   "outputs": [],
   "source": [
    "from pathlib import Path\n",
    "import matplotlib.pyplot as plt\n",
    "from octant.core import TrackRun, OctantTrack, HOUR"
   ]
  },
  {
   "cell_type": "markdown",
   "metadata": {},
   "source": [
    "Define the common data directory"
   ]
  },
  {
   "cell_type": "code",
   "execution_count": 2,
   "metadata": {},
   "outputs": [],
   "source": [
    "sample_dir = Path('.') / 'sample_data'"
   ]
  },
  {
   "cell_type": "markdown",
   "metadata": {},
   "source": [
    "Data are usually organised in hierarchical directory structure. Here, the relevant parameters are defined."
   ]
  },
  {
   "cell_type": "code",
   "execution_count": 3,
   "metadata": {},
   "outputs": [],
   "source": [
    "dataset = 'era5'\n",
    "period = 'test'\n",
    "run_id = 0"
   ]
  },
  {
   "cell_type": "markdown",
   "metadata": {},
   "source": [
    "Construct the full path"
   ]
  },
  {
   "cell_type": "code",
   "execution_count": 4,
   "metadata": {},
   "outputs": [],
   "source": [
    "track_res_dir = sample_dir / dataset / f'run{run_id:03d}' / period"
   ]
  },
  {
   "cell_type": "markdown",
   "metadata": {},
   "source": [
    "## Load the data"
   ]
  },
  {
   "cell_type": "code",
   "execution_count": 5,
   "metadata": {},
   "outputs": [],
   "source": [
    "TR = TrackRun(track_res_dir)"
   ]
  },
  {
   "cell_type": "code",
   "execution_count": 6,
   "metadata": {},
   "outputs": [
    {
     "data": {
      "text/plain": [
       "octant.core.TrackRun"
      ]
     },
     "execution_count": 6,
     "metadata": {},
     "output_type": "execute_result"
    }
   ],
   "source": [
    "type(TR)"
   ]
  },
  {
   "cell_type": "code",
   "execution_count": 7,
   "metadata": {},
   "outputs": [
    {
     "data": {
      "text/plain": [
       "671"
      ]
     },
     "execution_count": 7,
     "metadata": {},
     "output_type": "execute_result"
    }
   ],
   "source": [
    "len(TR)"
   ]
  },
  {
   "cell_type": "code",
   "execution_count": 8,
   "metadata": {},
   "outputs": [
    {
     "data": {
      "text/plain": [
       "1.0"
      ]
     },
     "execution_count": 8,
     "metadata": {},
     "output_type": "execute_result"
    }
   ],
   "source": [
    "TR.tstep_h"
   ]
  },
  {
   "cell_type": "markdown",
   "metadata": {},
   "source": [
    "### Concatenate data from several directories"
   ]
  },
  {
   "cell_type": "code",
   "execution_count": 9,
   "metadata": {},
   "outputs": [],
   "source": [
    "# TR = TrackRun(one_directory)\n",
    "# TR2 = TrackRun(another_directory)\n",
    "# TR.extend(TR2)\n",
    "## or\n",
    "# TR += TrackRun(another_directory)"
   ]
  },
  {
   "cell_type": "markdown",
   "metadata": {},
   "source": [
    "`TrackRun` class can be initialised empty:"
   ]
  },
  {
   "cell_type": "code",
   "execution_count": 10,
   "metadata": {},
   "outputs": [],
   "source": [
    "tr_empty = TrackRun()"
   ]
  },
  {
   "cell_type": "code",
   "execution_count": 11,
   "metadata": {},
   "outputs": [
    {
     "name": "stdout",
     "output_type": "stream",
     "text": [
      "TrackRun(, 0)\n"
     ]
    }
   ],
   "source": [
    "print(tr_empty)"
   ]
  },
  {
   "cell_type": "markdown",
   "metadata": {},
   "source": [
    "## Categorise tracks by different filters"
   ]
  },
  {
   "cell_type": "code",
   "execution_count": 12,
   "metadata": {},
   "outputs": [],
   "source": [
    "import xarray as xr"
   ]
  },
  {
   "cell_type": "code",
   "execution_count": 13,
   "metadata": {},
   "outputs": [],
   "source": [
    "lsm = xr.open_dataarray(sample_dir / dataset / 'lsm.nc')\n",
    "lsm = lsm.squeeze()  # remove singular time dimension"
   ]
  },
  {
   "cell_type": "code",
   "execution_count": 14,
   "metadata": {},
   "outputs": [],
   "source": [
    "TR.categorise(lsm=lsm, filt_by_dist=False, filt_by_land=True, filt_by_domain_bounds=True, coast_rad=50)"
   ]
  },
  {
   "cell_type": "code",
   "execution_count": 15,
   "metadata": {},
   "outputs": [
    {
     "data": {
      "text/plain": [
       "(671, 135, 63)"
      ]
     },
     "execution_count": 15,
     "metadata": {},
     "output_type": "execute_result"
    }
   ],
   "source": [
    "TR.size(), TR.size('good'), TR.size('pmc')"
   ]
  },
  {
   "cell_type": "markdown",
   "metadata": {},
   "source": [
    "## Units of TrackRun"
   ]
  },
  {
   "cell_type": "code",
   "execution_count": 16,
   "metadata": {},
   "outputs": [],
   "source": [
    "import random"
   ]
  },
  {
   "cell_type": "markdown",
   "metadata": {},
   "source": [
    "Each cyclone track stored in lists of `TrackRun` class as a `CycloneTrack` instance"
   ]
  },
  {
   "cell_type": "code",
   "execution_count": 17,
   "metadata": {},
   "outputs": [],
   "source": [
    "ct = random.choice([*TR['pmc'].groupby('track_idx')])[1]"
   ]
  },
  {
   "cell_type": "markdown",
   "metadata": {},
   "source": [
    "It is essentially a sub-class of pandas.DataFrame"
   ]
  },
  {
   "cell_type": "code",
   "execution_count": 18,
   "metadata": {},
   "outputs": [
    {
     "data": {
      "text/html": [
       "<div>\n",
       "<style scoped>\n",
       "    .dataframe tbody tr th:only-of-type {\n",
       "        vertical-align: middle;\n",
       "    }\n",
       "\n",
       "    .dataframe tbody tr th {\n",
       "        vertical-align: top;\n",
       "    }\n",
       "\n",
       "    .dataframe thead th {\n",
       "        text-align: right;\n",
       "    }\n",
       "</style>\n",
       "<table border=\"1\" class=\"dataframe\">\n",
       "  <thead>\n",
       "    <tr style=\"text-align: right;\">\n",
       "      <th></th>\n",
       "      <th></th>\n",
       "      <th>lon</th>\n",
       "      <th>lat</th>\n",
       "      <th>vo</th>\n",
       "      <th>time</th>\n",
       "      <th>area</th>\n",
       "      <th>vortex_type</th>\n",
       "      <th>cat</th>\n",
       "    </tr>\n",
       "    <tr>\n",
       "      <th>track_idx</th>\n",
       "      <th>row_idx</th>\n",
       "      <th></th>\n",
       "      <th></th>\n",
       "      <th></th>\n",
       "      <th></th>\n",
       "      <th></th>\n",
       "      <th></th>\n",
       "      <th></th>\n",
       "    </tr>\n",
       "  </thead>\n",
       "  <tbody>\n",
       "    <tr>\n",
       "      <th rowspan=\"10\" valign=\"top\">579</th>\n",
       "      <th>0</th>\n",
       "      <td>14.4</td>\n",
       "      <td>72.0</td>\n",
       "      <td>0.54056</td>\n",
       "      <td>2011-01-28 07:00:00</td>\n",
       "      <td>24817.41992</td>\n",
       "      <td>0</td>\n",
       "      <td>2</td>\n",
       "    </tr>\n",
       "    <tr>\n",
       "      <th>1</th>\n",
       "      <td>15.0</td>\n",
       "      <td>71.7</td>\n",
       "      <td>0.53787</td>\n",
       "      <td>2011-01-28 08:00:00</td>\n",
       "      <td>31384.82617</td>\n",
       "      <td>0</td>\n",
       "      <td>2</td>\n",
       "    </tr>\n",
       "    <tr>\n",
       "      <th>2</th>\n",
       "      <td>16.2</td>\n",
       "      <td>71.4</td>\n",
       "      <td>0.50913</td>\n",
       "      <td>2011-01-28 09:00:00</td>\n",
       "      <td>30867.31836</td>\n",
       "      <td>0</td>\n",
       "      <td>2</td>\n",
       "    </tr>\n",
       "    <tr>\n",
       "      <th>3</th>\n",
       "      <td>21.0</td>\n",
       "      <td>70.5</td>\n",
       "      <td>0.52384</td>\n",
       "      <td>2011-01-28 10:00:00</td>\n",
       "      <td>28821.66406</td>\n",
       "      <td>0</td>\n",
       "      <td>2</td>\n",
       "    </tr>\n",
       "    <tr>\n",
       "      <th>4</th>\n",
       "      <td>20.7</td>\n",
       "      <td>70.5</td>\n",
       "      <td>0.54792</td>\n",
       "      <td>2011-01-28 11:00:00</td>\n",
       "      <td>26075.45508</td>\n",
       "      <td>0</td>\n",
       "      <td>2</td>\n",
       "    </tr>\n",
       "    <tr>\n",
       "      <th>5</th>\n",
       "      <td>20.4</td>\n",
       "      <td>70.5</td>\n",
       "      <td>0.53521</td>\n",
       "      <td>2011-01-28 12:00:00</td>\n",
       "      <td>24073.55078</td>\n",
       "      <td>0</td>\n",
       "      <td>2</td>\n",
       "    </tr>\n",
       "    <tr>\n",
       "      <th>6</th>\n",
       "      <td>21.0</td>\n",
       "      <td>70.2</td>\n",
       "      <td>0.41143</td>\n",
       "      <td>2011-01-28 13:00:00</td>\n",
       "      <td>25355.80078</td>\n",
       "      <td>0</td>\n",
       "      <td>2</td>\n",
       "    </tr>\n",
       "    <tr>\n",
       "      <th>7</th>\n",
       "      <td>21.0</td>\n",
       "      <td>70.2</td>\n",
       "      <td>0.39176</td>\n",
       "      <td>2011-01-28 14:00:00</td>\n",
       "      <td>20254.17578</td>\n",
       "      <td>1</td>\n",
       "      <td>2</td>\n",
       "    </tr>\n",
       "    <tr>\n",
       "      <th>8</th>\n",
       "      <td>21.0</td>\n",
       "      <td>70.2</td>\n",
       "      <td>0.26220</td>\n",
       "      <td>2011-01-28 15:00:00</td>\n",
       "      <td>1133.33301</td>\n",
       "      <td>0</td>\n",
       "      <td>2</td>\n",
       "    </tr>\n",
       "    <tr>\n",
       "      <th>9</th>\n",
       "      <td>21.0</td>\n",
       "      <td>70.2</td>\n",
       "      <td>0.20708</td>\n",
       "      <td>2011-01-28 16:00:00</td>\n",
       "      <td>0.00000</td>\n",
       "      <td>0</td>\n",
       "      <td>2</td>\n",
       "    </tr>\n",
       "  </tbody>\n",
       "</table>\n",
       "</div>"
      ],
      "text/plain": [
       "                    lon   lat       vo                time         area  \\\n",
       "track_idx row_idx                                                         \n",
       "579       0        14.4  72.0  0.54056 2011-01-28 07:00:00  24817.41992   \n",
       "          1        15.0  71.7  0.53787 2011-01-28 08:00:00  31384.82617   \n",
       "          2        16.2  71.4  0.50913 2011-01-28 09:00:00  30867.31836   \n",
       "          3        21.0  70.5  0.52384 2011-01-28 10:00:00  28821.66406   \n",
       "          4        20.7  70.5  0.54792 2011-01-28 11:00:00  26075.45508   \n",
       "          5        20.4  70.5  0.53521 2011-01-28 12:00:00  24073.55078   \n",
       "          6        21.0  70.2  0.41143 2011-01-28 13:00:00  25355.80078   \n",
       "          7        21.0  70.2  0.39176 2011-01-28 14:00:00  20254.17578   \n",
       "          8        21.0  70.2  0.26220 2011-01-28 15:00:00   1133.33301   \n",
       "          9        21.0  70.2  0.20708 2011-01-28 16:00:00      0.00000   \n",
       "\n",
       "                   vortex_type  cat  \n",
       "track_idx row_idx                    \n",
       "579       0                  0    2  \n",
       "          1                  0    2  \n",
       "          2                  0    2  \n",
       "          3                  0    2  \n",
       "          4                  0    2  \n",
       "          5                  0    2  \n",
       "          6                  0    2  \n",
       "          7                  1    2  \n",
       "          8                  0    2  \n",
       "          9                  0    2  "
      ]
     },
     "execution_count": 18,
     "metadata": {},
     "output_type": "execute_result"
    }
   ],
   "source": [
    "ct"
   ]
  },
  {
   "cell_type": "code",
   "execution_count": 19,
   "metadata": {},
   "outputs": [
    {
     "data": {
      "text/plain": [
       "octant.core.OctantTrack"
      ]
     },
     "execution_count": 19,
     "metadata": {},
     "output_type": "execute_result"
    }
   ],
   "source": [
    "type(ct)"
   ]
  },
  {
   "cell_type": "markdown",
   "metadata": {},
   "source": [
    "Tt has a few useful properties"
   ]
  },
  {
   "cell_type": "code",
   "execution_count": 20,
   "metadata": {},
   "outputs": [
    {
     "data": {
      "text/plain": [
       "9.0"
      ]
     },
     "execution_count": 20,
     "metadata": {},
     "output_type": "execute_result"
    }
   ],
   "source": [
    "ct.lifetime_h"
   ]
  },
  {
   "cell_type": "code",
   "execution_count": 21,
   "metadata": {},
   "outputs": [
    {
     "data": {
      "text/plain": [
       "356.4138601560814"
      ]
     },
     "execution_count": 21,
     "metadata": {},
     "output_type": "execute_result"
    }
   ],
   "source": [
    "ct.total_dist_km"
   ]
  },
  {
   "cell_type": "markdown",
   "metadata": {},
   "source": [
    "E.g., maximum vorticity in $ 10^{-3} s^{-1}$"
   ]
  },
  {
   "cell_type": "code",
   "execution_count": 22,
   "metadata": {},
   "outputs": [
    {
     "data": {
      "text/plain": [
       "0.54792"
      ]
     },
     "execution_count": 22,
     "metadata": {},
     "output_type": "execute_result"
    }
   ],
   "source": [
    "ct.max_vort"
   ]
  },
  {
   "cell_type": "code",
   "execution_count": 23,
   "metadata": {},
   "outputs": [
    {
     "data": {
      "text/plain": [
       "0.44670000000000004"
      ]
     },
     "execution_count": 23,
     "metadata": {},
     "output_type": "execute_result"
    }
   ],
   "source": [
    "ct.mean_vort"
   ]
  },
  {
   "cell_type": "code",
   "execution_count": 24,
   "metadata": {},
   "outputs": [
    {
     "data": {
      "text/plain": [
       "310.46960172344166"
      ]
     },
     "execution_count": 24,
     "metadata": {},
     "output_type": "execute_result"
    }
   ],
   "source": [
    "ct.gen_lys_dist_km"
   ]
  },
  {
   "cell_type": "code",
   "execution_count": 25,
   "metadata": {},
   "outputs": [
    {
     "data": {
      "text/plain": [
       "39.60154001734238"
      ]
     },
     "execution_count": 25,
     "metadata": {},
     "output_type": "execute_result"
    }
   ],
   "source": [
    "ct.average_speed"
   ]
  },
  {
   "cell_type": "code",
   "execution_count": 26,
   "metadata": {},
   "outputs": [
    {
     "data": {
      "text/plain": [
       "array([[14.4, 72. ],\n",
       "       [15. , 71.7],\n",
       "       [16.2, 71.4],\n",
       "       [21. , 70.5],\n",
       "       [20.7, 70.5],\n",
       "       [20.4, 70.5],\n",
       "       [21. , 70.2],\n",
       "       [21. , 70.2],\n",
       "       [21. , 70.2],\n",
       "       [21. , 70.2]])"
      ]
     },
     "execution_count": 26,
     "metadata": {},
     "output_type": "execute_result"
    }
   ],
   "source": [
    "ct.lonlat"
   ]
  },
  {
   "cell_type": "markdown",
   "metadata": {},
   "source": [
    "## octant's utilities"
   ]
  },
  {
   "cell_type": "code",
   "execution_count": 27,
   "metadata": {},
   "outputs": [],
   "source": [
    "from octant.utils import great_circle"
   ]
  },
  {
   "cell_type": "code",
   "execution_count": 28,
   "metadata": {},
   "outputs": [
    {
     "data": {
      "text/plain": [
       "222826.50759451024"
      ]
     },
     "execution_count": 28,
     "metadata": {},
     "output_type": "execute_result"
    }
   ],
   "source": [
    "great_circle(9.6, 10.2, 76.9, 78.9)"
   ]
  }
 ],
 "metadata": {
  "kernelspec": {
   "display_name": "Python [conda env:octant_devel]",
   "language": "python",
   "name": "conda-env-octant_devel-py"
  },
  "language_info": {
   "codemirror_mode": {
    "name": "ipython",
    "version": 3
   },
   "file_extension": ".py",
   "mimetype": "text/x-python",
   "name": "python",
   "nbconvert_exporter": "python",
   "pygments_lexer": "ipython3",
   "version": "3.6.5"
  }
 },
 "nbformat": 4,
 "nbformat_minor": 2
}
